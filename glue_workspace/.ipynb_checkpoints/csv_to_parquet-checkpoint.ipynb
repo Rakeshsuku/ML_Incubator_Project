{
 "cells": [
  {
   "cell_type": "code",
   "execution_count": 1,
   "id": "708db1d8-3428-4210-b44c-a056eee23f35",
   "metadata": {},
   "outputs": [
    {
     "name": "stdout",
     "output_type": "stream",
     "text": [
      "Starting Spark application\n"
     ]
    },
    {
     "data": {
      "text/html": [
       "<table>\n",
       "<tr><th>ID</th><th>YARN Application ID</th><th>Kind</th><th>State</th><th>Spark UI</th><th>Driver log</th><th>User</th><th>Current session?</th></tr><tr><td>7</td><td>None</td><td>pyspark</td><td>idle</td><td></td><td></td><td>None</td><td>✔</td></tr></table>"
      ],
      "text/plain": [
       "<IPython.core.display.HTML object>"
      ]
     },
     "metadata": {},
     "output_type": "display_data"
    },
    {
     "data": {
      "application/vnd.jupyter.widget-view+json": {
       "model_id": "",
       "version_major": 2,
       "version_minor": 0
      },
      "text/plain": [
       "FloatProgress(value=0.0, bar_style='info', description='Progress:', layout=Layout(height='25px', width='50%'),…"
      ]
     },
     "metadata": {},
     "output_type": "display_data"
    },
    {
     "name": "stdout",
     "output_type": "stream",
     "text": [
      "SparkSession available as 'spark'.\n"
     ]
    },
    {
     "data": {
      "application/vnd.jupyter.widget-view+json": {
       "model_id": "",
       "version_major": 2,
       "version_minor": 0
      },
      "text/plain": [
       "FloatProgress(value=0.0, bar_style='info', description='Progress:', layout=Layout(height='25px', width='50%'),…"
      ]
     },
     "metadata": {},
     "output_type": "display_data"
    }
   ],
   "source": [
    "import os\n",
    "import sys\n",
    "import numpy as np\n",
    "import pandas as pd\n",
    "import boto3\n",
    "from time import time, gmtime, sleep, strftime, strptime\n",
    "from datetime import datetime, timedelta\n",
    "import gc\n",
    "from IPython.core.display import display\n",
    "\n",
    "import pyspark\n",
    "from pyspark.context import SparkContext\n",
    "from pyspark.sql import SparkSession\n",
    "import pyspark.sql.functions as F\n",
    "import pyspark.sql.types as T\n",
    "from pyspark.sql.types import StringType, IntegerType, FloatType\n",
    "from pyspark.sql.types import BooleanType, DateType, TimestampType\n",
    "from pyspark.sql.types import LongType, StructType, StructField\n",
    "\n",
    "\n",
    "from awsglue.context import GlueContext\n",
    "from awsglue.job import Job"
   ]
  },
  {
   "cell_type": "code",
   "execution_count": 2,
   "id": "03c72116-54d2-4b59-9477-7fb9e55c6ffc",
   "metadata": {},
   "outputs": [
    {
     "data": {
      "application/vnd.jupyter.widget-view+json": {
       "model_id": "",
       "version_major": 2,
       "version_minor": 0
      },
      "text/plain": [
       "FloatProgress(value=0.0, bar_style='info', description='Progress:', layout=Layout(height='25px', width='50%'),…"
      ]
     },
     "metadata": {},
     "output_type": "display_data"
    },
    {
     "name": "stdout",
     "output_type": "stream",
     "text": [
      "/home/glue_user/spark/python/pyspark/sql/context.py:112: FutureWarning: Deprecated in 3.0.0. Use SparkSession.builder.getOrCreate() instead.\n",
      "  warnings.warn("
     ]
    }
   ],
   "source": [
    "sc = SparkSession.builder.getOrCreate()\n",
    "glueContext = GlueContext(sc)\n",
    "spark = glueContext.spark_session"
   ]
  },
  {
   "cell_type": "markdown",
   "id": "ee999488-f678-495b-83cf-5ac03bc57c09",
   "metadata": {
    "tags": []
   },
   "source": [
    "#### Check Glue Databases"
   ]
  },
  {
   "cell_type": "code",
   "execution_count": 3,
   "id": "a3ec6457-a291-4ef5-b9d8-40c640cf4ec0",
   "metadata": {},
   "outputs": [
    {
     "data": {
      "application/vnd.jupyter.widget-view+json": {
       "model_id": "",
       "version_major": 2,
       "version_minor": 0
      },
      "text/plain": [
       "FloatProgress(value=0.0, bar_style='info', description='Progress:', layout=Layout(height='25px', width='50%'),…"
      ]
     },
     "metadata": {},
     "output_type": "display_data"
    },
    {
     "name": "stdout",
     "output_type": "stream",
     "text": [
      "[Row(namespace='`covid-test-db`'), Row(namespace='`covid-test-db-new`'), Row(namespace='default')]"
     ]
    }
   ],
   "source": [
    "spark.sql(\"SHOW DATABASES\").collect()"
   ]
  },
  {
   "cell_type": "code",
   "execution_count": 4,
   "id": "25e00e80-c68e-4855-8406-7456cb2a9f61",
   "metadata": {},
   "outputs": [
    {
     "data": {
      "application/vnd.jupyter.widget-view+json": {
       "model_id": "",
       "version_major": 2,
       "version_minor": 0
      },
      "text/plain": [
       "FloatProgress(value=0.0, bar_style='info', description='Progress:', layout=Layout(height='25px', width='50%'),…"
      ]
     },
     "metadata": {},
     "output_type": "display_data"
    },
    {
     "name": "stdout",
     "output_type": "stream",
     "text": [
      "          namespace                tableName  isTemporary\n",
      "0   `covid-test-db`      json_states_current            0\n",
      "1   `covid-test-db`        json_states_daily            0\n",
      "2   `covid-test-db`         json_states_info            0\n",
      "3   `covid-test-db`  json_states_screenshots            0\n",
      "4   `covid-test-db`          json_us_current            0\n",
      "5   `covid-test-db`            json_us_daily            0\n",
      "6   `covid-test-db`           states_current            0\n",
      "7   `covid-test-db`             states_daily            0\n",
      "8   `covid-test-db`              states_info            0\n",
      "9   `covid-test-db`       states_screenshots            0\n",
      "10  `covid-test-db`               us_current            0\n",
      "11  `covid-test-db`                 us_daily            0"
     ]
    }
   ],
   "source": [
    "spark.sql(\"USE `covid-test-db`\")\n",
    "df = spark.sql(\"SHOW TABLES\")\n",
    "df = df.withColumn(\"isTemporary\", F.col(\"isTemporary\").cast(\"int\"))\n",
    "df.toPandas()"
   ]
  },
  {
   "cell_type": "code",
   "execution_count": 5,
   "id": "1db61dce-72a3-4448-a0dc-b79a3561ec4d",
   "metadata": {},
   "outputs": [
    {
     "data": {
      "application/vnd.jupyter.widget-view+json": {
       "model_id": "",
       "version_major": 2,
       "version_minor": 0
      },
      "text/plain": [
       "FloatProgress(value=0.0, bar_style='info', description='Progress:', layout=Layout(height='25px', width='50%'),…"
      ]
     },
     "metadata": {},
     "output_type": "display_data"
    },
    {
     "name": "stdout",
     "output_type": "stream",
     "text": [
      "62"
     ]
    }
   ],
   "source": [
    "del df\n",
    "gc.collect()"
   ]
  },
  {
   "cell_type": "markdown",
   "id": "485a0683-92a3-464d-83bf-0d661ca648e7",
   "metadata": {},
   "source": [
    "#### Read CSV Files from s3 bucket and save as Parquet files"
   ]
  },
  {
   "cell_type": "code",
   "execution_count": 6,
   "id": "66d078eb-d5f1-4056-a8df-14bcb42d28c1",
   "metadata": {},
   "outputs": [
    {
     "data": {
      "application/vnd.jupyter.widget-view+json": {
       "model_id": "",
       "version_major": 2,
       "version_minor": 0
      },
      "text/plain": [
       "FloatProgress(value=0.0, bar_style='info', description='Progress:', layout=Layout(height='25px', width='50%'),…"
      ]
     },
     "metadata": {},
     "output_type": "display_data"
    }
   ],
   "source": [
    "def get_df_from_s3(\n",
    "    csv_file_name:str,\n",
    "    schema:T.StructType,\n",
    "    s3_path:str =\"s3://covid-dataset-rakesh/raw-data/dataset\"\n",
    "):\n",
    "    \"\"\"\n",
    "    Reads a csv file saved in s3 to a PySpark dataframe and returns the same.\n",
    "\n",
    "    Parameters\n",
    "     - csv_file_name: File name (object name) of the csv fike saved in s3. Example: data.csv\n",
    "     - schema: PySpark schema to be used to read the csv file.\n",
    "     - s3_path: s3 URI of the parent folder containing the file.\n",
    "    \"\"\"    \n",
    "    df = (spark.read\n",
    "          .format(\"csv\")\n",
    "          .option(\"header\", \"true\")\n",
    "          .schema(schema)\n",
    "          .load(f\"{s3_path}/{csv_file_name}\"))\n",
    "    return df\n",
    "\n",
    "def display_df(df:pyspark.sql.dataframe.DataFrame, n_rows=5):\n",
    "    \"Displays 5 rows (default) and all columns of a pyspark dataframe df\"\n",
    "    with pd.option_context(\"display.max_rows\", n_rows, \"display.max_columns\", None):\n",
    "        display(df.limit(n_rows).toPandas())\n",
    "\n",
    "\n",
    "def get_dynamicframe_from_s3(\n",
    "    csv_file_name:str,\n",
    "    s3_path:str =\"s3://covid-dataset-rakesh/raw-data/dataset\"\n",
    "):\n",
    "    \"\"\"\n",
    "    Reads a csv file saved in s3 to a dynamicframe and returns the same.\n",
    "\n",
    "    Parameters\n",
    "     - csv_file_name: File name (object name) of the csv fike saved in s3. Example: data.csv\n",
    "     - s3_path: s3 URI of the parent folder containing the file.\n",
    "    \"\"\"\n",
    "    dynamic_frame = glueContext.create_dynamic_frame.from_options(\n",
    "        connection_type=\"s3\",\n",
    "        connection_options={\"paths\": [f\"{s3_path}/{csv_file_name}\"]},\n",
    "        format=\"csv\",\n",
    "        format_options={\n",
    "            \"withHeader\": True,\n",
    "            \"optimizePerformance\": False,\n",
    "        },\n",
    "    )\n",
    "    return dynamic_frame\n",
    "\n",
    "def show_dynamic_frame(\n",
    "    csv_file_name:str,\n",
    "    n_rows: int = 1,\n",
    "    s3_path:str =\"s3://covid-dataset-rakesh/raw-data/dataset\"\n",
    "):\n",
    "    \"\"\"\n",
    "    Reads a csv file saved in s3 to a dynamicframe and displays the first record (default, n_rows=1).\n",
    "\n",
    "    Parameters\n",
    "     - csv_file_name: File name (object name) of the csv fike saved in s3. Example: data.csv\n",
    "     - n_rows: The number of row from the csv file to be read into the dynamic frame (default: 1) \n",
    "     - s3_path: s3 URI of the parent folder containing the file.\n",
    "    \"\"\"\n",
    "    dynamic_frame = get_dynamicframe_from_s3(csv_file_name, s3_path)\n",
    "    dynamic_frame.show(n_rows)"
   ]
  },
  {
   "cell_type": "code",
   "execution_count": 7,
   "id": "c3494b7f-01dd-4b57-84c8-9a8c2e46c453",
   "metadata": {},
   "outputs": [
    {
     "data": {
      "application/vnd.jupyter.widget-view+json": {
       "model_id": "",
       "version_major": 2,
       "version_minor": 0
      },
      "text/plain": [
       "FloatProgress(value=0.0, bar_style='info', description='Progress:', layout=Layout(height='25px', width='50%'),…"
      ]
     },
     "metadata": {},
     "output_type": "display_data"
    }
   ],
   "source": [
    "s3 = boto3.client('s3')\n",
    "bucket_name = \"covid-dataset-rakesh\"\n",
    "folder_name = \"cleaned-data\"\n",
    "# s3.put_object(Bucket=bucket_name, Key=(folder_name+'/'))"
   ]
  },
  {
   "cell_type": "markdown",
   "id": "e1481146-4ac3-45f4-8c91-83a9ca7ae387",
   "metadata": {},
   "source": [
    "1. states_current.csv"
   ]
  },
  {
   "cell_type": "code",
   "execution_count": 8,
   "id": "2d419507-6e4e-41b5-805d-4c52696a2665",
   "metadata": {},
   "outputs": [
    {
     "data": {
      "application/vnd.jupyter.widget-view+json": {
       "model_id": "",
       "version_major": 2,
       "version_minor": 0
      },
      "text/plain": [
       "FloatProgress(value=0.0, bar_style='info', description='Progress:', layout=Layout(height='25px', width='50%'),…"
      ]
     },
     "metadata": {},
     "output_type": "display_data"
    },
    {
     "name": "stdout",
     "output_type": "stream",
     "text": [
      "Folder name: cleaned-data/states_current\n",
      "Parquet file name: states_current.parquet"
     ]
    }
   ],
   "source": [
    "csv_file_name = \"states_current.csv\"\n",
    "parquet_file_name = csv_file_name.split(\".\")[0]+\".parquet\"\n",
    "folder_name = f\"cleaned-data/{csv_file_name.split('.')[0]}\"\n",
    "print(f\"Folder name: {folder_name}\\nParquet file name: {parquet_file_name}\")"
   ]
  },
  {
   "cell_type": "code",
   "execution_count": 18,
   "id": "2f84623a-f60e-4878-bc35-83d1fbda7709",
   "metadata": {},
   "outputs": [
    {
     "data": {
      "application/vnd.jupyter.widget-view+json": {
       "model_id": "",
       "version_major": 2,
       "version_minor": 0
      },
      "text/plain": [
       "FloatProgress(value=0.0, bar_style='info', description='Progress:', layout=Layout(height='25px', width='50%'),…"
      ]
     },
     "metadata": {},
     "output_type": "display_data"
    },
    {
     "name": "stdout",
     "output_type": "stream",
     "text": [
      "{'ResponseMetadata': {'RequestId': 'CWSP0DQ45CJKNBQS', 'HostId': 'YdmCqBuLCmppieJiuCb039pGLdNr7o3B2325zPC0bubTd030oMSzhi9eMLaeY2mxhd/1ROfKlt0=', 'HTTPStatusCode': 200, 'HTTPHeaders': {'x-amz-id-2': 'YdmCqBuLCmppieJiuCb039pGLdNr7o3B2325zPC0bubTd030oMSzhi9eMLaeY2mxhd/1ROfKlt0=', 'x-amz-request-id': 'CWSP0DQ45CJKNBQS', 'date': 'Thu, 15 Jun 2023 05:39:28 GMT', 'x-amz-server-side-encryption': 'AES256', 'etag': '\"d41d8cd98f00b204e9800998ecf8427e\"', 'server': 'AmazonS3', 'content-length': '0'}, 'RetryAttempts': 0}, 'ETag': '\"d41d8cd98f00b204e9800998ecf8427e\"', 'ServerSideEncryption': 'AES256'}"
     ]
    }
   ],
   "source": [
    "# Create folder in s3\n",
    "s3.put_object(Bucket=bucket_name, Key=(folder_name+\"/\"))"
   ]
  },
  {
   "cell_type": "code",
   "execution_count": 10,
   "id": "18a98fdd-8998-4db2-8028-dbb081f173f8",
   "metadata": {},
   "outputs": [
    {
     "data": {
      "application/vnd.jupyter.widget-view+json": {
       "model_id": "",
       "version_major": 2,
       "version_minor": 0
      },
      "text/plain": [
       "FloatProgress(value=0.0, bar_style='info', description='Progress:', layout=Layout(height='25px', width='50%'),…"
      ]
     },
     "metadata": {},
     "output_type": "display_data"
    },
    {
     "name": "stdout",
     "output_type": "stream",
     "text": [
      "{\"date\": \"20210307\", \"state\": \"AK\", \"positive\": \"56886\", \"probableCases\": \"\", \"negative\": \"\", \"pending\": \"\", \"totalTestResultsSource\": \"totalTestsViral\", \"totalTestResults\": \"1731628\", \"hospitalizedCurrently\": \"33\", \"hospitalizedCumulative\": \"1293\", \"inIcuCurrently\": \"\", \"inIcuCumulative\": \"\", \"onVentilatorCurrently\": \"2\", \"onVentilatorCumulative\": \"\", \"recovered\": \"\", \"lastUpdateEt\": \"3/5/2021 03:59\", \"dateModified\": \"2021-03-05T03:59:00Z\", \"checkTimeEt\": \"03/04 22:59\", \"death\": \"305\", \"hospitalized\": \"1293\", \"hospitalizedDischarged\": \"\", \"dateChecked\": \"2021-03-05T03:59:00Z\", \"totalTestsViral\": \"1731628\", \"positiveTestsViral\": \"68693\", \"negativeTestsViral\": \"1660758\", \"positiveCasesViral\": \"\", \"deathConfirmed\": \"\", \"deathProbable\": \"\", \"totalTestEncountersViral\": \"\", \"totalTestsPeopleViral\": \"\", \"totalTestsAntibody\": \"\", \"positiveTestsAntibody\": \"\", \"negativeTestsAntibody\": \"\", \"totalTestsPeopleAntibody\": \"\", \"positiveTestsPeopleAntibody\": \"\", \"negativeTestsPeopleAntibody\": \"\", \"totalTestsPeopleAntigen\": \"\", \"positiveTestsPeopleAntigen\": \"\", \"totalTestsAntigen\": \"\", \"positiveTestsAntigen\": \"\", \"fips\": \"02\", \"positiveIncrease\": \"0\", \"negativeIncrease\": \"0\", \"total\": \"56886\", \"totalTestResultsIncrease\": \"0\", \"posNeg\": \"56886\", \"dataQualityGrade\": \"\", \"deathIncrease\": \"0\", \"hospitalizedIncrease\": \"0\", \"hash\": \"dc4bccd4bb885349d7e94d6fed058e285d4be164\", \"commercialScore\": \"0\", \"negativeRegularScore\": \"0\", \"negativeScore\": \"0\", \"positiveScore\": \"0\", \"score\": \"0\", \"grade\": \"\"}"
     ]
    }
   ],
   "source": [
    "show_dynamic_frame(csv_file_name)"
   ]
  },
  {
   "cell_type": "code",
   "execution_count": 11,
   "id": "63c67800-4887-49a1-aa06-e57780bc8eed",
   "metadata": {},
   "outputs": [
    {
     "data": {
      "application/vnd.jupyter.widget-view+json": {
       "model_id": "",
       "version_major": 2,
       "version_minor": 0
      },
      "text/plain": [
       "FloatProgress(value=0.0, bar_style='info', description='Progress:', layout=Layout(height='25px', width='50%'),…"
      ]
     },
     "metadata": {},
     "output_type": "display_data"
    }
   ],
   "source": [
    "schema = StructType([\n",
    "    StructField(\"date\", StringType(), True),\n",
    "    StructField(\"state\", StringType(), True),\n",
    "    StructField(\"positive\", IntegerType(), True),\n",
    "    StructField(\"probableCases\", IntegerType(), True),\n",
    "    StructField(\"negative\", IntegerType(), True),\n",
    "    StructField(\"pending\", IntegerType(), True),\n",
    "    StructField(\"totalTestResultsSource\", StringType(), True),\n",
    "    StructField(\"totalTestResults\", IntegerType(), True),\n",
    "    StructField(\"hospitalizedCurrently\", IntegerType(), True),\n",
    "    StructField(\"hospitalizedCumulative\", IntegerType(), True),\n",
    "    StructField(\"inIcuCurrently\", IntegerType(), True),\n",
    "    StructField(\"inIcuCumulative\", IntegerType(), True),\n",
    "    StructField(\"onVentilatorCurrently\", IntegerType(), True),\n",
    "    StructField(\"onVentilatorCumulative\", IntegerType(), True),\n",
    "    StructField(\"recovered\", IntegerType(), True),\n",
    "    StructField(\"lastUpdateEt\", StringType(), True),\n",
    "    StructField(\"dateModified\", StringType(), True),\n",
    "    StructField(\"checkTimeEt\", StringType(), True),\n",
    "    StructField(\"death\", IntegerType(), True),\n",
    "    StructField(\"hospitalized\", IntegerType(), True),\n",
    "    StructField(\"hospitalizedDischarged\", IntegerType(), True),\n",
    "    StructField(\"dateChecked\", StringType(), True),\n",
    "    StructField(\"totalTestsViral\", LongType(), True),\n",
    "    StructField(\"positiveTestsViral\", LongType(), True),\n",
    "    StructField(\"negativeTestsViral\", LongType(), True),\n",
    "    StructField(\"positiveCasesViral\", IntegerType(), True),\n",
    "    StructField(\"deathConfirmed\", IntegerType(), True),\n",
    "    StructField(\"deathProbable\", IntegerType(), True),\n",
    "    StructField(\"totalTestEncountersViral\", IntegerType(), True),\n",
    "    StructField(\"totalTestsPeopleViral\", IntegerType(), True),\n",
    "    StructField(\"totalTestsAntibody\", IntegerType(), True),\n",
    "    StructField(\"positiveTestsAntibody\", IntegerType(), True),\n",
    "    StructField(\"negativeTestsAntibody\", IntegerType(), True),\n",
    "    StructField(\"totalTestsPeopleAntibody\", IntegerType(), True),\n",
    "    StructField(\"positiveTestsPeopleAntibody\", IntegerType(), True),\n",
    "    StructField(\"negativeTestsPeopleAntibody\", IntegerType(), True),\n",
    "    StructField(\"totalTestsPeopleAntigen\", IntegerType(), True),\n",
    "    StructField(\"positiveTestsPeopleAntigen\", IntegerType(), True),\n",
    "    StructField(\"totalTestsAntigen\", IntegerType(), True),\n",
    "    StructField(\"positiveTestsAntigen\", IntegerType(), True),\n",
    "    StructField(\"fips\", IntegerType(), True),\n",
    "    StructField(\"positiveIncrease\", IntegerType(), True),\n",
    "    StructField(\"negativeIncrease\", IntegerType(), True),\n",
    "    StructField(\"total\", IntegerType(), True),\n",
    "    StructField(\"totalTestResultsIncrease\", IntegerType(), True),\n",
    "    StructField(\"posNeg\", IntegerType(), True),\n",
    "    StructField(\"dataQualityGrade\", StringType(), True),\n",
    "    StructField(\"deathIncrease\", IntegerType(), True),\n",
    "    StructField(\"hospitalizedIncrease\", IntegerType(), True),\n",
    "    StructField(\"hash\", StringType(), True),\n",
    "    StructField(\"commercialScore\", IntegerType(), True),\n",
    "    StructField(\"negativeRegularScore\", IntegerType(), True),\n",
    "    StructField(\"negativeScore\", IntegerType(), True),\n",
    "    StructField(\"positiveScore\", IntegerType(), True),\n",
    "    StructField(\"score\", IntegerType(), True),\n",
    "    StructField(\"grade\", IntegerType(), True),\n",
    "])"
   ]
  },
  {
   "cell_type": "code",
   "execution_count": 12,
   "id": "d3e6ed0e-5fa2-4183-b398-a9be653e15c0",
   "metadata": {},
   "outputs": [
    {
     "data": {
      "application/vnd.jupyter.widget-view+json": {
       "model_id": "",
       "version_major": 2,
       "version_minor": 0
      },
      "text/plain": [
       "FloatProgress(value=0.0, bar_style='info', description='Progress:', layout=Layout(height='25px', width='50%'),…"
      ]
     },
     "metadata": {},
     "output_type": "display_data"
    }
   ],
   "source": [
    "df = get_df_from_s3(csv_file_name, schema)"
   ]
  },
  {
   "cell_type": "code",
   "execution_count": 15,
   "id": "565dc021-2b58-41ce-ae49-ac548ebeedff",
   "metadata": {},
   "outputs": [
    {
     "data": {
      "application/vnd.jupyter.widget-view+json": {
       "model_id": "",
       "version_major": 2,
       "version_minor": 0
      },
      "text/plain": [
       "FloatProgress(value=0.0, bar_style='info', description='Progress:', layout=Layout(height='25px', width='50%'),…"
      ]
     },
     "metadata": {},
     "output_type": "display_data"
    }
   ],
   "source": [
    "# Validate the data read\n",
    "assert df.count() == 56, f\"No. of rows in {csv_file_name} is not matching!\"\n",
    "assert len(df.columns) == 56, f\"No. of columns in {csv_file_name} is not matching!\""
   ]
  },
  {
   "cell_type": "code",
   "execution_count": 16,
   "id": "b9fb2f1e-a89f-4153-9f71-5783450d65b8",
   "metadata": {},
   "outputs": [
    {
     "data": {
      "application/vnd.jupyter.widget-view+json": {
       "model_id": "",
       "version_major": 2,
       "version_minor": 0
      },
      "text/plain": [
       "FloatProgress(value=0.0, bar_style='info', description='Progress:', layout=Layout(height='25px', width='50%'),…"
      ]
     },
     "metadata": {},
     "output_type": "display_data"
    }
   ],
   "source": [
    "df = (df\n",
    "      .withColumn(\"date\", F.to_date(F.col(\"date\"), \"yyyyMMdd\"))\n",
    "      .withColumn(\"lastUpdateEt\", F.to_timestamp(F.col(\"lastUpdateEt\"), \"M/d/yyyy HH:mm\"))\n",
    "      .withColumn(\"dateModified\", F.to_timestamp(F.col(\"dateModified\"), \"yyyy-MM-dd'T'HH:mm:ss'Z'\"))\n",
    "      .withColumn(\"dateChecked\", F.to_timestamp(F.col(\"dateChecked\"), \"yyyy-MM-dd'T'HH:mm:ss'Z'\"))\n",
    "     )"
   ]
  },
  {
   "cell_type": "code",
   "execution_count": 17,
   "id": "88ea6136-1e72-403a-b7b0-fdc2607e808a",
   "metadata": {},
   "outputs": [
    {
     "data": {
      "application/vnd.jupyter.widget-view+json": {
       "model_id": "",
       "version_major": 2,
       "version_minor": 0
      },
      "text/plain": [
       "FloatProgress(value=0.0, bar_style='info', description='Progress:', layout=Layout(height='25px', width='50%'),…"
      ]
     },
     "metadata": {},
     "output_type": "display_data"
    },
    {
     "name": "stdout",
     "output_type": "stream",
     "text": [
      "root\n",
      " |-- date: date (nullable = true)\n",
      " |-- state: string (nullable = true)\n",
      " |-- positive: integer (nullable = true)\n",
      " |-- probableCases: integer (nullable = true)\n",
      " |-- negative: integer (nullable = true)\n",
      " |-- pending: integer (nullable = true)\n",
      " |-- totalTestResultsSource: string (nullable = true)\n",
      " |-- totalTestResults: integer (nullable = true)\n",
      " |-- hospitalizedCurrently: integer (nullable = true)\n",
      " |-- hospitalizedCumulative: integer (nullable = true)\n",
      " |-- inIcuCurrently: integer (nullable = true)\n",
      " |-- inIcuCumulative: integer (nullable = true)\n",
      " |-- onVentilatorCurrently: integer (nullable = true)\n",
      " |-- onVentilatorCumulative: integer (nullable = true)\n",
      " |-- recovered: integer (nullable = true)\n",
      " |-- lastUpdateEt: timestamp (nullable = true)\n",
      " |-- dateModified: timestamp (nullable = true)\n",
      " |-- checkTimeEt: string (nullable = true)\n",
      " |-- death: integer (nullable = true)\n",
      " |-- hospitalized: integer (nullable = true)\n",
      " |-- hospitalizedDischarged: integer (nullable = true)\n",
      " |-- dateChecked: timestamp (nullable = true)\n",
      " |-- totalTestsViral: long (nullable = true)\n",
      " |-- positiveTestsViral: long (nullable = true)\n",
      " |-- negativeTestsViral: long (nullable = true)\n",
      " |-- positiveCasesViral: integer (nullable = true)\n",
      " |-- deathConfirmed: integer (nullable = true)\n",
      " |-- deathProbable: integer (nullable = true)\n",
      " |-- totalTestEncountersViral: integer (nullable = true)\n",
      " |-- totalTestsPeopleViral: integer (nullable = true)\n",
      " |-- totalTestsAntibody: integer (nullable = true)\n",
      " |-- positiveTestsAntibody: integer (nullable = true)\n",
      " |-- negativeTestsAntibody: integer (nullable = true)\n",
      " |-- totalTestsPeopleAntibody: integer (nullable = true)\n",
      " |-- positiveTestsPeopleAntibody: integer (nullable = true)\n",
      " |-- negativeTestsPeopleAntibody: integer (nullable = true)\n",
      " |-- totalTestsPeopleAntigen: integer (nullable = true)\n",
      " |-- positiveTestsPeopleAntigen: integer (nullable = true)\n",
      " |-- totalTestsAntigen: integer (nullable = true)\n",
      " |-- positiveTestsAntigen: integer (nullable = true)\n",
      " |-- fips: integer (nullable = true)\n",
      " |-- positiveIncrease: integer (nullable = true)\n",
      " |-- negativeIncrease: integer (nullable = true)\n",
      " |-- total: integer (nullable = true)\n",
      " |-- totalTestResultsIncrease: integer (nullable = true)\n",
      " |-- posNeg: integer (nullable = true)\n",
      " |-- dataQualityGrade: string (nullable = true)\n",
      " |-- deathIncrease: integer (nullable = true)\n",
      " |-- hospitalizedIncrease: integer (nullable = true)\n",
      " |-- hash: string (nullable = true)\n",
      " |-- commercialScore: integer (nullable = true)\n",
      " |-- negativeRegularScore: integer (nullable = true)\n",
      " |-- negativeScore: integer (nullable = true)\n",
      " |-- positiveScore: integer (nullable = true)\n",
      " |-- score: integer (nullable = true)\n",
      " |-- grade: integer (nullable = true)"
     ]
    }
   ],
   "source": [
    "df.printSchema()"
   ]
  },
  {
   "cell_type": "code",
   "execution_count": 19,
   "id": "ccf371a2-4bb5-4422-9377-e977cbc65dbb",
   "metadata": {},
   "outputs": [
    {
     "data": {
      "application/vnd.jupyter.widget-view+json": {
       "model_id": "",
       "version_major": 2,
       "version_minor": 0
      },
      "text/plain": [
       "FloatProgress(value=0.0, bar_style='info', description='Progress:', layout=Layout(height='25px', width='50%'),…"
      ]
     },
     "metadata": {},
     "output_type": "display_data"
    }
   ],
   "source": [
    "df.write.parquet(f\"s3://{bucket_name}/{folder_name}/{parquet_file_name}\", mode=\"overwrite\")"
   ]
  },
  {
   "cell_type": "markdown",
   "id": "eeac5419-4a6b-4aad-9cb6-1fbc3cc3bc7e",
   "metadata": {},
   "source": [
    "2. states_daily.csv"
   ]
  },
  {
   "cell_type": "code",
   "execution_count": 20,
   "id": "cebad447-4dcc-43a4-82fe-ffbf62662fff",
   "metadata": {},
   "outputs": [
    {
     "data": {
      "application/vnd.jupyter.widget-view+json": {
       "model_id": "",
       "version_major": 2,
       "version_minor": 0
      },
      "text/plain": [
       "FloatProgress(value=0.0, bar_style='info', description='Progress:', layout=Layout(height='25px', width='50%'),…"
      ]
     },
     "metadata": {},
     "output_type": "display_data"
    },
    {
     "name": "stdout",
     "output_type": "stream",
     "text": [
      "Folder name: cleaned-data/states_daily\n",
      "Parquet file name: states_daily.parquet"
     ]
    }
   ],
   "source": [
    "csv_file_name = \"states_daily.csv\"\n",
    "parquet_file_name = csv_file_name.split(\".\")[0]+\".parquet\"\n",
    "folder_name = f\"cleaned-data/{csv_file_name.split('.')[0]}\"\n",
    "print(f\"Folder name: {folder_name}\\nParquet file name: {parquet_file_name}\")"
   ]
  },
  {
   "cell_type": "code",
   "execution_count": 21,
   "id": "90e1e153-b1ca-4008-afae-83510344cd18",
   "metadata": {},
   "outputs": [
    {
     "data": {
      "application/vnd.jupyter.widget-view+json": {
       "model_id": "",
       "version_major": 2,
       "version_minor": 0
      },
      "text/plain": [
       "FloatProgress(value=0.0, bar_style='info', description='Progress:', layout=Layout(height='25px', width='50%'),…"
      ]
     },
     "metadata": {},
     "output_type": "display_data"
    },
    {
     "name": "stdout",
     "output_type": "stream",
     "text": [
      "{'ResponseMetadata': {'RequestId': 'TJE445F4CFVHHPCC', 'HostId': '+rHJxkS23rryKKmmaglBKAM9IJk26bnln9j24Be2+5P8XqhKhNUrhI++9TYWPHk2P0zX5VC0bec=', 'HTTPStatusCode': 200, 'HTTPHeaders': {'x-amz-id-2': '+rHJxkS23rryKKmmaglBKAM9IJk26bnln9j24Be2+5P8XqhKhNUrhI++9TYWPHk2P0zX5VC0bec=', 'x-amz-request-id': 'TJE445F4CFVHHPCC', 'date': 'Thu, 15 Jun 2023 05:40:54 GMT', 'x-amz-server-side-encryption': 'AES256', 'etag': '\"d41d8cd98f00b204e9800998ecf8427e\"', 'server': 'AmazonS3', 'content-length': '0'}, 'RetryAttempts': 0}, 'ETag': '\"d41d8cd98f00b204e9800998ecf8427e\"', 'ServerSideEncryption': 'AES256'}"
     ]
    }
   ],
   "source": [
    "# Create folder in s3\n",
    "s3.put_object(Bucket=bucket_name, Key=(folder_name+\"/\"))"
   ]
  },
  {
   "cell_type": "code",
   "execution_count": 22,
   "id": "04b5b6a4-b451-4726-ba3f-9013109faac0",
   "metadata": {},
   "outputs": [
    {
     "data": {
      "application/vnd.jupyter.widget-view+json": {
       "model_id": "",
       "version_major": 2,
       "version_minor": 0
      },
      "text/plain": [
       "FloatProgress(value=0.0, bar_style='info', description='Progress:', layout=Layout(height='25px', width='50%'),…"
      ]
     },
     "metadata": {},
     "output_type": "display_data"
    },
    {
     "name": "stdout",
     "output_type": "stream",
     "text": [
      "{\"date\": \"20210307\", \"state\": \"AK\", \"positive\": \"56886\", \"probableCases\": \"\", \"negative\": \"\", \"pending\": \"\", \"totalTestResultsSource\": \"totalTestsViral\", \"totalTestResults\": \"1731628\", \"hospitalizedCurrently\": \"33\", \"hospitalizedCumulative\": \"1293\", \"inIcuCurrently\": \"\", \"inIcuCumulative\": \"\", \"onVentilatorCurrently\": \"2\", \"onVentilatorCumulative\": \"\", \"recovered\": \"\", \"lastUpdateEt\": \"3/5/2021 03:59\", \"dateModified\": \"2021-03-05T03:59:00Z\", \"checkTimeEt\": \"03/04 22:59\", \"death\": \"305\", \"hospitalized\": \"1293\", \"hospitalizedDischarged\": \"\", \"dateChecked\": \"2021-03-05T03:59:00Z\", \"totalTestsViral\": \"1731628\", \"positiveTestsViral\": \"68693\", \"negativeTestsViral\": \"1660758\", \"positiveCasesViral\": \"\", \"deathConfirmed\": \"\", \"deathProbable\": \"\", \"totalTestEncountersViral\": \"\", \"totalTestsPeopleViral\": \"\", \"totalTestsAntibody\": \"\", \"positiveTestsAntibody\": \"\", \"negativeTestsAntibody\": \"\", \"totalTestsPeopleAntibody\": \"\", \"positiveTestsPeopleAntibody\": \"\", \"negativeTestsPeopleAntibody\": \"\", \"totalTestsPeopleAntigen\": \"\", \"positiveTestsPeopleAntigen\": \"\", \"totalTestsAntigen\": \"\", \"positiveTestsAntigen\": \"\", \"fips\": \"02\", \"positiveIncrease\": \"0\", \"negativeIncrease\": \"0\", \"total\": \"56886\", \"totalTestResultsIncrease\": \"0\", \"posNeg\": \"56886\", \"dataQualityGrade\": \"\", \"deathIncrease\": \"0\", \"hospitalizedIncrease\": \"0\", \"hash\": \"dc4bccd4bb885349d7e94d6fed058e285d4be164\", \"commercialScore\": \"0\", \"negativeRegularScore\": \"0\", \"negativeScore\": \"0\", \"positiveScore\": \"0\", \"score\": \"0\", \"grade\": \"\"}"
     ]
    }
   ],
   "source": [
    "show_dynamic_frame(csv_file_name)"
   ]
  },
  {
   "cell_type": "code",
   "execution_count": 23,
   "id": "b4a224fc-3dc1-44d8-a11e-63e9e203e78f",
   "metadata": {},
   "outputs": [
    {
     "data": {
      "application/vnd.jupyter.widget-view+json": {
       "model_id": "",
       "version_major": 2,
       "version_minor": 0
      },
      "text/plain": [
       "FloatProgress(value=0.0, bar_style='info', description='Progress:', layout=Layout(height='25px', width='50%'),…"
      ]
     },
     "metadata": {},
     "output_type": "display_data"
    }
   ],
   "source": [
    "# states_daily has the same schema as states_current\n",
    "df = get_df_from_s3(csv_file_name, schema)"
   ]
  },
  {
   "cell_type": "code",
   "execution_count": 26,
   "id": "56209f09-7bae-42af-8f09-c6d2e8ba5749",
   "metadata": {},
   "outputs": [
    {
     "data": {
      "application/vnd.jupyter.widget-view+json": {
       "model_id": "",
       "version_major": 2,
       "version_minor": 0
      },
      "text/plain": [
       "FloatProgress(value=0.0, bar_style='info', description='Progress:', layout=Layout(height='25px', width='50%'),…"
      ]
     },
     "metadata": {},
     "output_type": "display_data"
    }
   ],
   "source": [
    "# Validate the data read\n",
    "assert df.count() == 20780, f\"No. of rows in {csv_file_name} is not matching!\"\n",
    "assert len(df.columns) == 56, f\"No. of columns in {csv_file_name} is not matching!\""
   ]
  },
  {
   "cell_type": "code",
   "execution_count": 24,
   "id": "7b2c8c42-c6ac-47eb-aea1-9dd776fbb4cb",
   "metadata": {},
   "outputs": [
    {
     "data": {
      "application/vnd.jupyter.widget-view+json": {
       "model_id": "",
       "version_major": 2,
       "version_minor": 0
      },
      "text/plain": [
       "FloatProgress(value=0.0, bar_style='info', description='Progress:', layout=Layout(height='25px', width='50%'),…"
      ]
     },
     "metadata": {},
     "output_type": "display_data"
    }
   ],
   "source": [
    "df = (df\n",
    "      .withColumn(\"date\", F.to_date(F.col(\"date\"), \"yyyyMMdd\"))\n",
    "      .withColumn(\"lastUpdateEt\", F.to_timestamp(F.col(\"lastUpdateEt\"), \"M/d/yyyy HH:mm\"))\n",
    "      .withColumn(\"dateModified\", F.to_timestamp(F.col(\"dateModified\"), \"yyyy-MM-dd'T'HH:mm:ss'Z'\"))\n",
    "      .withColumn(\"dateChecked\", F.to_timestamp(F.col(\"dateChecked\"), \"yyyy-MM-dd'T'HH:mm:ss'Z'\"))\n",
    "     )"
   ]
  },
  {
   "cell_type": "code",
   "execution_count": 25,
   "id": "87808f3c-e7dd-4d32-983b-b0d4776bd796",
   "metadata": {},
   "outputs": [
    {
     "data": {
      "application/vnd.jupyter.widget-view+json": {
       "model_id": "",
       "version_major": 2,
       "version_minor": 0
      },
      "text/plain": [
       "FloatProgress(value=0.0, bar_style='info', description='Progress:', layout=Layout(height='25px', width='50%'),…"
      ]
     },
     "metadata": {},
     "output_type": "display_data"
    },
    {
     "name": "stdout",
     "output_type": "stream",
     "text": [
      "root\n",
      " |-- date: date (nullable = true)\n",
      " |-- state: string (nullable = true)\n",
      " |-- positive: integer (nullable = true)\n",
      " |-- probableCases: integer (nullable = true)\n",
      " |-- negative: integer (nullable = true)\n",
      " |-- pending: integer (nullable = true)\n",
      " |-- totalTestResultsSource: string (nullable = true)\n",
      " |-- totalTestResults: integer (nullable = true)\n",
      " |-- hospitalizedCurrently: integer (nullable = true)\n",
      " |-- hospitalizedCumulative: integer (nullable = true)\n",
      " |-- inIcuCurrently: integer (nullable = true)\n",
      " |-- inIcuCumulative: integer (nullable = true)\n",
      " |-- onVentilatorCurrently: integer (nullable = true)\n",
      " |-- onVentilatorCumulative: integer (nullable = true)\n",
      " |-- recovered: integer (nullable = true)\n",
      " |-- lastUpdateEt: timestamp (nullable = true)\n",
      " |-- dateModified: timestamp (nullable = true)\n",
      " |-- checkTimeEt: string (nullable = true)\n",
      " |-- death: integer (nullable = true)\n",
      " |-- hospitalized: integer (nullable = true)\n",
      " |-- hospitalizedDischarged: integer (nullable = true)\n",
      " |-- dateChecked: timestamp (nullable = true)\n",
      " |-- totalTestsViral: long (nullable = true)\n",
      " |-- positiveTestsViral: long (nullable = true)\n",
      " |-- negativeTestsViral: long (nullable = true)\n",
      " |-- positiveCasesViral: integer (nullable = true)\n",
      " |-- deathConfirmed: integer (nullable = true)\n",
      " |-- deathProbable: integer (nullable = true)\n",
      " |-- totalTestEncountersViral: integer (nullable = true)\n",
      " |-- totalTestsPeopleViral: integer (nullable = true)\n",
      " |-- totalTestsAntibody: integer (nullable = true)\n",
      " |-- positiveTestsAntibody: integer (nullable = true)\n",
      " |-- negativeTestsAntibody: integer (nullable = true)\n",
      " |-- totalTestsPeopleAntibody: integer (nullable = true)\n",
      " |-- positiveTestsPeopleAntibody: integer (nullable = true)\n",
      " |-- negativeTestsPeopleAntibody: integer (nullable = true)\n",
      " |-- totalTestsPeopleAntigen: integer (nullable = true)\n",
      " |-- positiveTestsPeopleAntigen: integer (nullable = true)\n",
      " |-- totalTestsAntigen: integer (nullable = true)\n",
      " |-- positiveTestsAntigen: integer (nullable = true)\n",
      " |-- fips: integer (nullable = true)\n",
      " |-- positiveIncrease: integer (nullable = true)\n",
      " |-- negativeIncrease: integer (nullable = true)\n",
      " |-- total: integer (nullable = true)\n",
      " |-- totalTestResultsIncrease: integer (nullable = true)\n",
      " |-- posNeg: integer (nullable = true)\n",
      " |-- dataQualityGrade: string (nullable = true)\n",
      " |-- deathIncrease: integer (nullable = true)\n",
      " |-- hospitalizedIncrease: integer (nullable = true)\n",
      " |-- hash: string (nullable = true)\n",
      " |-- commercialScore: integer (nullable = true)\n",
      " |-- negativeRegularScore: integer (nullable = true)\n",
      " |-- negativeScore: integer (nullable = true)\n",
      " |-- positiveScore: integer (nullable = true)\n",
      " |-- score: integer (nullable = true)\n",
      " |-- grade: integer (nullable = true)"
     ]
    }
   ],
   "source": [
    "df.printSchema()"
   ]
  },
  {
   "cell_type": "code",
   "execution_count": 27,
   "id": "19b193cf-448d-498a-a178-a27c821e3209",
   "metadata": {},
   "outputs": [
    {
     "data": {
      "application/vnd.jupyter.widget-view+json": {
       "model_id": "",
       "version_major": 2,
       "version_minor": 0
      },
      "text/plain": [
       "FloatProgress(value=0.0, bar_style='info', description='Progress:', layout=Layout(height='25px', width='50%'),…"
      ]
     },
     "metadata": {},
     "output_type": "display_data"
    }
   ],
   "source": [
    "df.write.parquet(f\"s3://{bucket_name}/{folder_name}/{parquet_file_name}\", mode=\"overwrite\")"
   ]
  },
  {
   "cell_type": "markdown",
   "id": "8983b6cc-58a0-409b-b666-7a3c9c46a28e",
   "metadata": {},
   "source": [
    "3. states_info.csv"
   ]
  },
  {
   "cell_type": "code",
   "execution_count": 28,
   "id": "65d295e9-6b07-45a1-b7b4-81b09c03ea71",
   "metadata": {},
   "outputs": [
    {
     "data": {
      "application/vnd.jupyter.widget-view+json": {
       "model_id": "",
       "version_major": 2,
       "version_minor": 0
      },
      "text/plain": [
       "FloatProgress(value=0.0, bar_style='info', description='Progress:', layout=Layout(height='25px', width='50%'),…"
      ]
     },
     "metadata": {},
     "output_type": "display_data"
    },
    {
     "name": "stdout",
     "output_type": "stream",
     "text": [
      "Folder name: cleaned-data/states_info\n",
      "Parquet file name: states_info.parquet"
     ]
    }
   ],
   "source": [
    "csv_file_name = \"states_info.csv\"\n",
    "parquet_file_name = csv_file_name.split(\".\")[0]+\".parquet\"\n",
    "folder_name = f\"cleaned-data/{csv_file_name.split('.')[0]}\"\n",
    "print(f\"Folder name: {folder_name}\\nParquet file name: {parquet_file_name}\")"
   ]
  },
  {
   "cell_type": "code",
   "execution_count": 29,
   "id": "a701b7c0-b428-45fc-8e2b-3a80ae464420",
   "metadata": {},
   "outputs": [
    {
     "data": {
      "application/vnd.jupyter.widget-view+json": {
       "model_id": "",
       "version_major": 2,
       "version_minor": 0
      },
      "text/plain": [
       "FloatProgress(value=0.0, bar_style='info', description='Progress:', layout=Layout(height='25px', width='50%'),…"
      ]
     },
     "metadata": {},
     "output_type": "display_data"
    },
    {
     "name": "stdout",
     "output_type": "stream",
     "text": [
      "{'ResponseMetadata': {'RequestId': 'WMQ7B68HFQRPVFH9', 'HostId': 'zGz8u3VE9SShOQoM9YY4d5m1oIzS7YKgTUm1ldyHJH2mORELU9LxxLlHlYZd0NkV5GyvrI+J8xj7rJjiNrCZ+Z+9E2oPmJHF', 'HTTPStatusCode': 200, 'HTTPHeaders': {'x-amz-id-2': 'zGz8u3VE9SShOQoM9YY4d5m1oIzS7YKgTUm1ldyHJH2mORELU9LxxLlHlYZd0NkV5GyvrI+J8xj7rJjiNrCZ+Z+9E2oPmJHF', 'x-amz-request-id': 'WMQ7B68HFQRPVFH9', 'date': 'Thu, 15 Jun 2023 05:44:11 GMT', 'x-amz-server-side-encryption': 'AES256', 'etag': '\"d41d8cd98f00b204e9800998ecf8427e\"', 'server': 'AmazonS3', 'content-length': '0'}, 'RetryAttempts': 0}, 'ETag': '\"d41d8cd98f00b204e9800998ecf8427e\"', 'ServerSideEncryption': 'AES256'}"
     ]
    }
   ],
   "source": [
    "# Create folder in s3\n",
    "s3.put_object(Bucket=bucket_name, Key=(folder_name+\"/\"))"
   ]
  },
  {
   "cell_type": "code",
   "execution_count": 30,
   "id": "68cb36a6-6779-4625-b3c1-351e4c6f2fd4",
   "metadata": {},
   "outputs": [
    {
     "data": {
      "application/vnd.jupyter.widget-view+json": {
       "model_id": "",
       "version_major": 2,
       "version_minor": 0
      },
      "text/plain": [
       "FloatProgress(value=0.0, bar_style='info', description='Progress:', layout=Layout(height='25px', width='50%'),…"
      ]
     },
     "metadata": {},
     "output_type": "display_data"
    },
    {
     "name": "stdout",
     "output_type": "stream",
     "text": [
      "{\"state\": \"AK\", \"notes\": \"Alaska combines PCR and antigen tests in the total tests figure reported on the state's dashboard.\n",
      "\n",
      "As of February 6, 2021, [Alaska no longer updates](https://twitter.com/alaska_dhss/status/1355349178335944708?s=21) their COVID-19 dashboards on weekends. As a result, we will be unable to update their data on Saturdays and Sundays. \n",
      "\n",
      "On February 12, 2021, Alaska [announced](https://twitter.com/Alaska_DHSS/status/1360413364065767424?s=20) via the official Alaska Department of Health and Social Services twitter that there would be no update to their data on February 15, 2021 due to the Presidents Day holiday.\n",
      "\n",
      "On January 20, 2021, Alaska [reported](https://www.adn.com/alaska-news/2021/01/20/tracking-covid-19-in-alaska-record-23-deaths-and-167-infections-reported-wednesday/) a comparatively large increase of 23 deaths due to a review of death certificates.\n",
      "\n",
      "On January 4, 2020, Alaska noted that \\\"counted deaths in Alaska include COVID-19 cases confirmed through a lab result as well as probable deaths based on confirmed COVID-19 clinical and epidemiological criteria as defined by the CDC with no confirmatory lab testing.\\\" Due to this change we are unable to update the **Confirmed deaths** metric after January 4, 2020.\n",
      "\n",
      "On January 1, 2021, Alaska noted that there would be no update to their data on January 1, 2021.\n",
      "\n",
      "On December 25, 2020, Alaska announced on their dashboard that there would be no update to their data on December 25, 2020. \n",
      "\n",
      "On November 17, 2020, Alaska [announced](https://alaska-coronavirus-vaccine-outreach-alaska-dhss.hub.arcgis.com/datasets/cases-frequently-asked-questions) that “As of 11/17/2020, the cases dashboard will not be showing data on recovered and active cases due to the increasing State case load”. Due to this we cannot continue reporting **Recovered**, however the time series for this metric is available in the historical data, and our data downloads. \n",
      "\n",
      "On November 16, 2020 we updated the **Cases (confirmed plus probable)** field to include only residents. We also deleted the time series for **Confirmed cases** because Alaska is lumping PCR and antigen testing for their case definition.\n",
      "\n",
      "On November 16, 2020 we added **Cumulative Hospitalized** (which includes both residents and non-residents), although the value does not reflect current hospitalizations.\n",
      "\n",
      "On November 7, 2020, Alaska announced that their testing dashboard would be \\\"temporarily disabled from November 6th to November 9th\\\" and that testing data could be accessed through their data summary tables. After originally using the data summary tables on November 7, we have reversed that decision, and reverted the values to their November 6th state. The frozen values were replaced on November 10, with values from the state's [Tests Dataset](https://coronavirus-response-alaska-dhss.hub.arcgis.com/datasets/tests-dataset). \n",
      "\n",
      "On November 6, 2020, Alaska’s **Total PCR tests (specimens)** and **Positive PCR tests (specimens)** decreased without explanation. As a result, `Negative`, which is calculated by subtracting **Total cases** from **Total PCR tests (specimens)**, decreased also.\n",
      "\n",
      "On November 5, 2020, Alaska’s **Total PCR tests (specimens)** increased from roughly 628k to 782k. We were unable to find an explanation for the increase.\n",
      "\n",
      "As of September 18, 2020, Alaska's total test results are drawn from our `totalTestsViral` field instead of calculated via positive+negative.\", \"covid19Site\": \"http://dhss.alaska.gov/dph/Epi/id/Pages/COVID-19/monitoring.aspx\", \"covid19SiteSecondary\": \"https://experience.arcgis.com/experience/ed1c874ca60b4c15ab09095a070065ca\", \"covid19SiteTertiary\": \"https://alaska-dhss.maps.arcgis.com/apps/opsdashboard/index.html#/8782a14ef52342e99f866a3b8a3e624a\", \"covid19SiteQuaternary\": \"https://services1.arcgis.com/WzFsmainVTuD5KML/arcgis/rest/services/Tests_Dataset/FeatureServer/0/query?where=Test_Result+%3D+%27Negative%27&outStatistics=%5B%7B%27statisticType%27%3A+%27count%27%2C+%27onStatisticField%27%3A+%27FID%27%2C+%27outStatisticFieldName%27%3A+%27tests_negative%27%7D%5D\", \"covid19SiteQuinary\": \"https://services1.arcgis.com/WzFsmainVTuD5KML/arcgis/rest/services/Tests_Dataset/FeatureServer/0/query?where=Test_Result+%3D+%27Positive%27&outStatistics=%5B%7B%27statisticType%27%3A+%27count%27%2C+%27onStatisticField%27%3A+%27FID%27%2C+%27outStatisticFieldName%27%3A+%27tests_positive%27%7D%5D\", \"twitter\": \"@Alaska_DHSS\", \"covid19SiteOld\": \"http://dhss.alaska.gov/dph/Epi/id/Pages/COVID-19/default.aspx\", \"covidTrackingProjectPreferredTotalTestUnits\": \"Specimens\", \"covidTrackingProjectPreferredTotalTestField\": \"totalTestsViral\", \"totalTestResultsField\": \"Total Tests (PCR)\", \"pui\": \"All data\", \"pum\": \"false\", \"name\": \"Alaska\", \"fips\": \"02\"}"
     ]
    }
   ],
   "source": [
    "show_dynamic_frame(csv_file_name)"
   ]
  },
  {
   "cell_type": "code",
   "execution_count": 31,
   "id": "eb6a5d26-f60b-46f9-9fec-e455633f34ec",
   "metadata": {},
   "outputs": [
    {
     "data": {
      "application/vnd.jupyter.widget-view+json": {
       "model_id": "",
       "version_major": 2,
       "version_minor": 0
      },
      "text/plain": [
       "FloatProgress(value=0.0, bar_style='info', description='Progress:', layout=Layout(height='25px', width='50%'),…"
      ]
     },
     "metadata": {},
     "output_type": "display_data"
    }
   ],
   "source": [
    "schema = StructType([\n",
    "    StructField(\"state\", StringType(), True),\n",
    "    StructField(\"notes\", StringType(), True),\n",
    "    StructField(\"covid19Site\", StringType(), True),\n",
    "    StructField(\"covid19SiteSecondary\", StringType(), True),\n",
    "    StructField(\"covid19SiteTertiary\", StringType(), True),\n",
    "    StructField(\"covid19SiteQuaternary\", StringType(), True),\n",
    "    StructField(\"covid19SiteQuinary\", StringType(), True),\n",
    "    StructField(\"twitter\", StringType(), True),\n",
    "    StructField(\"covid19SiteOld\", StringType(), True),\n",
    "    StructField(\"covidTrackingProjectPreferredTotalTestUnits\", StringType(), True),\n",
    "    StructField(\"covidTrackingProjectPreferredTotalTestField\", StringType(), True),\n",
    "    StructField(\"totalTestResultsField\", StringType(), True),\n",
    "    StructField(\"pui\", StringType(), True),\n",
    "    StructField(\"pum\", StringType(), True),\n",
    "    StructField(\"name\", StringType(), True),\n",
    "    StructField(\"fips\", IntegerType(), True)\n",
    "])"
   ]
  },
  {
   "cell_type": "markdown",
   "id": "00be61b2-7929-4491-8863-328e7733f144",
   "metadata": {},
   "source": [
    "The original states_info.csv file had line breaks and double quotes in notes column. This was causing problem when we read the data into spark dataframe as spark was not able to identify the end of each record correctly. To mitigate this problem, we enclosed the values in notes column in double quotes and escaped \" within the text with \"\". The updated file is uploaded with the name \"states_info_corrected.csv\". We read the corrected file here. "
   ]
  },
  {
   "cell_type": "code",
   "execution_count": 32,
   "id": "67f42309-3151-484f-ab1e-861db50c8225",
   "metadata": {},
   "outputs": [
    {
     "data": {
      "application/vnd.jupyter.widget-view+json": {
       "model_id": "",
       "version_major": 2,
       "version_minor": 0
      },
      "text/plain": [
       "FloatProgress(value=0.0, bar_style='info', description='Progress:', layout=Layout(height='25px', width='50%'),…"
      ]
     },
     "metadata": {},
     "output_type": "display_data"
    }
   ],
   "source": [
    "df = (spark.read\n",
    "      .format(\"csv\")\n",
    "      .option(\"header\", \"true\")\n",
    "      .option(\"multiLine\", \"true\")\n",
    "      .option(\"escape\", '\"')\n",
    "      .schema(schema)\n",
    "      .load(\"s3://covid-dataset-rakesh/ordered-data/dataset/csv/states_info/states_info_corrected.csv\"))"
   ]
  },
  {
   "cell_type": "code",
   "execution_count": 33,
   "id": "95e068ab-e62c-446c-9816-37498da1adeb",
   "metadata": {},
   "outputs": [
    {
     "data": {
      "application/vnd.jupyter.widget-view+json": {
       "model_id": "",
       "version_major": 2,
       "version_minor": 0
      },
      "text/plain": [
       "FloatProgress(value=0.0, bar_style='info', description='Progress:', layout=Layout(height='25px', width='50%'),…"
      ]
     },
     "metadata": {},
     "output_type": "display_data"
    }
   ],
   "source": [
    "# Validate the data read\n",
    "assert df.count() == 56, f\"No. of rows in {csv_file_name} is not matching!\"\n",
    "assert len(df.columns) == 16, f\"No. of columns in {csv_file_name} is not matching!\""
   ]
  },
  {
   "cell_type": "code",
   "execution_count": 37,
   "id": "388bc6a4-077a-47f6-8de4-2412b399ae54",
   "metadata": {},
   "outputs": [
    {
     "data": {
      "application/vnd.jupyter.widget-view+json": {
       "model_id": "",
       "version_major": 2,
       "version_minor": 0
      },
      "text/plain": [
       "FloatProgress(value=0.0, bar_style='info', description='Progress:', layout=Layout(height='25px', width='50%'),…"
      ]
     },
     "metadata": {},
     "output_type": "display_data"
    },
    {
     "name": "stdout",
     "output_type": "stream",
     "text": [
      "[Row(state='AK', notes='\"Alaska combines PCR and antigen tests in the total tests figure reported on the state\\'s dashboard.\\n\\nAs of February 6, 2021, [Alaska no longer updates](https://twitter.com/alaska_dhss/status/1355349178335944708?s=21) their COVID-19 dashboards on weekends. As a result, we will be unable to update their data on Saturdays and Sundays. \\n\\nOn February 12, 2021, Alaska [announced](https://twitter.com/Alaska_DHSS/status/1360413364065767424?s=20) via the official Alaska Department of Health and Social Services twitter that there would be no update to their data on February 15, 2021 due to the Presidents Day holiday.\\n\\nOn January 20, 2021, Alaska [reported](https://www.adn.com/alaska-news/2021/01/20/tracking-covid-19-in-alaska-record-23-deaths-and-167-infections-reported-wednesday/) a comparatively large increase of 23 deaths due to a review of death certificates.\\n\\nOn January 4, 2020, Alaska noted that \"\"counted deaths in Alaska include COVID-19 cases confirmed through a lab result as well as probable deaths based on confirmed COVID-19 clinical and epidemiological criteria as defined by the CDC with no confirmatory lab testing.\"\" Due to this change we are unable to update the **Confirmed deaths** metric after January 4, 2020.\\n\\nOn January 1, 2021, Alaska noted that there would be no update to their data on January 1, 2021.\\n\\nOn December 25, 2020, Alaska announced on their dashboard that there would be no update to their data on December 25, 2020. \\n\\nOn November 17, 2020, Alaska [announced](https://alaska-coronavirus-vaccine-outreach-alaska-dhss.hub.arcgis.com/datasets/cases-frequently-asked-questions) that “As of 11/17/2020, the cases dashboard will not be showing data on recovered and active cases due to the increasing State case load”. Due to this we cannot continue reporting **Recovered**, however the time series for this metric is available in the historical data, and our data downloads. \\n\\nOn November 16, 2020 we updated the **Cases (confirmed plus probable)** field to include only residents. We also deleted the time series for **Confirmed cases** because Alaska is lumping PCR and antigen testing for their case definition.\\n\\nOn November 16, 2020 we added **Cumulative Hospitalized** (which includes both residents and non-residents), although the value does not reflect current hospitalizations.\\n\\nOn November 7, 2020, Alaska announced that their testing dashboard would be \"\"temporarily disabled from November 6th to November 9th\"\" and that testing data could be accessed through their data summary tables. After originally using the data summary tables on November 7, we have reversed that decision, and reverted the values to their November 6th state. The frozen values were replaced on November 10, with values from the state\\'s [Tests Dataset](https://coronavirus-response-alaska-dhss.hub.arcgis.com/datasets/tests-dataset). \\n\\nOn November 6, 2020, Alaska’s **Total PCR tests (specimens)** and **Positive PCR tests (specimens)** decreased without explanation. As a result, `Negative`, which is calculated by subtracting **Total cases** from **Total PCR tests (specimens)**, decreased also.\\n\\nOn November 5, 2020, Alaska’s **Total PCR tests (specimens)** increased from roughly 628k to 782k. We were unable to find an explanation for the increase.\\n\\nAs of September 18, 2020, Alaska\\'s total test results are drawn from our `totalTestsViral` field instead of calculated via positive+negative.\"', covid19Site='http://dhss.alaska.gov/dph/Epi/id/Pages/COVID-19/monitoring.aspx', covid19SiteSecondary='https://experience.arcgis.com/experience/ed1c874ca60b4c15ab09095a070065ca', covid19SiteTertiary='https://alaska-dhss.maps.arcgis.com/apps/opsdashboard/index.html#/8782a14ef52342e99f866a3b8a3e624a', covid19SiteQuaternary='https://services1.arcgis.com/WzFsmainVTuD5KML/arcgis/rest/services/Tests_Dataset/FeatureServer/0/query?where=Test_Result+%3D+%27Negative%27&outStatistics=%5B%7B%27statisticType%27%3A+%27count%27%2C+%27onStatisticField%27%3A+%27FID%27%2C+%27outStatisticFieldName%27%3A+%27tests_negative%27%7D%5D', covid19SiteQuinary='https://services1.arcgis.com/WzFsmainVTuD5KML/arcgis/rest/services/Tests_Dataset/FeatureServer/0/query?where=Test_Result+%3D+%27Positive%27&outStatistics=%5B%7B%27statisticType%27%3A+%27count%27%2C+%27onStatisticField%27%3A+%27FID%27%2C+%27outStatisticFieldName%27%3A+%27tests_positive%27%7D%5D', twitter='@Alaska_DHSS', covid19SiteOld='http://dhss.alaska.gov/dph/Epi/id/Pages/COVID-19/default.aspx', covidTrackingProjectPreferredTotalTestUnits='Specimens', covidTrackingProjectPreferredTotalTestField='totalTestsViral', totalTestResultsField='Total Tests (PCR)', pui='All data', pum='false', name='Alaska', fips=2)]"
     ]
    }
   ],
   "source": [
    "# Check 1 records\n",
    "df.limit(1).collect()"
   ]
  },
  {
   "cell_type": "code",
   "execution_count": 35,
   "id": "49e0210a-edfb-480f-b120-c1d4b725e53b",
   "metadata": {},
   "outputs": [
    {
     "data": {
      "application/vnd.jupyter.widget-view+json": {
       "model_id": "",
       "version_major": 2,
       "version_minor": 0
      },
      "text/plain": [
       "FloatProgress(value=0.0, bar_style='info', description='Progress:', layout=Layout(height='25px', width='50%'),…"
      ]
     },
     "metadata": {},
     "output_type": "display_data"
    },
    {
     "name": "stdout",
     "output_type": "stream",
     "text": [
      "root\n",
      " |-- state: string (nullable = true)\n",
      " |-- notes: string (nullable = true)\n",
      " |-- covid19Site: string (nullable = true)\n",
      " |-- covid19SiteSecondary: string (nullable = true)\n",
      " |-- covid19SiteTertiary: string (nullable = true)\n",
      " |-- covid19SiteQuaternary: string (nullable = true)\n",
      " |-- covid19SiteQuinary: string (nullable = true)\n",
      " |-- twitter: string (nullable = true)\n",
      " |-- covid19SiteOld: string (nullable = true)\n",
      " |-- covidTrackingProjectPreferredTotalTestUnits: string (nullable = true)\n",
      " |-- covidTrackingProjectPreferredTotalTestField: string (nullable = true)\n",
      " |-- totalTestResultsField: string (nullable = true)\n",
      " |-- pui: string (nullable = true)\n",
      " |-- pum: string (nullable = true)\n",
      " |-- name: string (nullable = true)\n",
      " |-- fips: integer (nullable = true)"
     ]
    }
   ],
   "source": [
    "df.printSchema()"
   ]
  },
  {
   "cell_type": "code",
   "execution_count": 36,
   "id": "b2b3d16d-5154-443a-ae29-8455e68eda69",
   "metadata": {},
   "outputs": [
    {
     "data": {
      "application/vnd.jupyter.widget-view+json": {
       "model_id": "",
       "version_major": 2,
       "version_minor": 0
      },
      "text/plain": [
       "FloatProgress(value=0.0, bar_style='info', description='Progress:', layout=Layout(height='25px', width='50%'),…"
      ]
     },
     "metadata": {},
     "output_type": "display_data"
    }
   ],
   "source": [
    "df.write.parquet(f\"s3://{bucket_name}/{folder_name}/{parquet_file_name}\", mode=\"overwrite\")"
   ]
  },
  {
   "cell_type": "markdown",
   "id": "f737fc62-58cd-48d2-94ff-56b921af70ff",
   "metadata": {},
   "source": [
    "4. states_screenshots.csv"
   ]
  },
  {
   "cell_type": "code",
   "execution_count": 38,
   "id": "89cd7a9f-a84e-4ab2-87a5-52d69f1fac9c",
   "metadata": {},
   "outputs": [
    {
     "data": {
      "application/vnd.jupyter.widget-view+json": {
       "model_id": "",
       "version_major": 2,
       "version_minor": 0
      },
      "text/plain": [
       "FloatProgress(value=0.0, bar_style='info', description='Progress:', layout=Layout(height='25px', width='50%'),…"
      ]
     },
     "metadata": {},
     "output_type": "display_data"
    },
    {
     "name": "stdout",
     "output_type": "stream",
     "text": [
      "Folder name: cleaned-data/states_screenshots\n",
      "Parquet file name: states_screenshots.parquet"
     ]
    }
   ],
   "source": [
    "csv_file_name = \"states_screenshots.csv\"\n",
    "parquet_file_name = csv_file_name.split(\".\")[0]+\".parquet\"\n",
    "folder_name = f\"cleaned-data/{csv_file_name.split('.')[0]}\"\n",
    "print(f\"Folder name: {folder_name}\\nParquet file name: {parquet_file_name}\")"
   ]
  },
  {
   "cell_type": "code",
   "execution_count": 39,
   "id": "5aef85b1-ec57-4375-9876-3b2c99214db7",
   "metadata": {},
   "outputs": [
    {
     "data": {
      "application/vnd.jupyter.widget-view+json": {
       "model_id": "",
       "version_major": 2,
       "version_minor": 0
      },
      "text/plain": [
       "FloatProgress(value=0.0, bar_style='info', description='Progress:', layout=Layout(height='25px', width='50%'),…"
      ]
     },
     "metadata": {},
     "output_type": "display_data"
    },
    {
     "name": "stdout",
     "output_type": "stream",
     "text": [
      "{'ResponseMetadata': {'RequestId': '44JHWD3NZK85T0VK', 'HostId': 'hn5FnQke6jCFBH7RmDLiejpyLuc9c0UEnOPrQ0/u4m8hlctOvXm0L5TOLRzCW8IeZFL9YfW+HNE=', 'HTTPStatusCode': 200, 'HTTPHeaders': {'x-amz-id-2': 'hn5FnQke6jCFBH7RmDLiejpyLuc9c0UEnOPrQ0/u4m8hlctOvXm0L5TOLRzCW8IeZFL9YfW+HNE=', 'x-amz-request-id': '44JHWD3NZK85T0VK', 'date': 'Thu, 15 Jun 2023 05:49:38 GMT', 'x-amz-server-side-encryption': 'AES256', 'etag': '\"d41d8cd98f00b204e9800998ecf8427e\"', 'server': 'AmazonS3', 'content-length': '0'}, 'RetryAttempts': 0}, 'ETag': '\"d41d8cd98f00b204e9800998ecf8427e\"', 'ServerSideEncryption': 'AES256'}"
     ]
    }
   ],
   "source": [
    "# Create folder in s3\n",
    "s3.put_object(Bucket=bucket_name, Key=(folder_name+\"/\"))"
   ]
  },
  {
   "cell_type": "code",
   "execution_count": 40,
   "id": "898bd8a9-9fd0-4db6-ba55-39dc9a509892",
   "metadata": {},
   "outputs": [
    {
     "data": {
      "application/vnd.jupyter.widget-view+json": {
       "model_id": "",
       "version_major": 2,
       "version_minor": 0
      },
      "text/plain": [
       "FloatProgress(value=0.0, bar_style='info', description='Progress:', layout=Layout(height='25px', width='50%'),…"
      ]
     },
     "metadata": {},
     "output_type": "display_data"
    },
    {
     "name": "stdout",
     "output_type": "stream",
     "text": [
      "{\"state\": \"AK\", \"url\": \"https://covidtracking.com/screenshots/AK/AK-20200315-021315.png\", \"secondary\": \"false\", \"tertiary\": \"false\", \"dateChecked\": \"2020-03-15T06:13:15.000Z\", \"date\": \"20200315\", \"size\": \"563460\"}"
     ]
    }
   ],
   "source": [
    "show_dynamic_frame(csv_file_name)"
   ]
  },
  {
   "cell_type": "code",
   "execution_count": 41,
   "id": "4f9230ea-d886-494c-9ec2-8ee3112d598d",
   "metadata": {},
   "outputs": [
    {
     "data": {
      "application/vnd.jupyter.widget-view+json": {
       "model_id": "",
       "version_major": 2,
       "version_minor": 0
      },
      "text/plain": [
       "FloatProgress(value=0.0, bar_style='info', description='Progress:', layout=Layout(height='25px', width='50%'),…"
      ]
     },
     "metadata": {},
     "output_type": "display_data"
    }
   ],
   "source": [
    "schema = StructType([\n",
    "    StructField(\"state\", StringType(), True),\n",
    "    StructField(\"url\", StringType(), True),\n",
    "    StructField(\"secondary\", StringType(), True),\n",
    "    StructField(\"tertiary\", StringType(), True),\n",
    "    StructField(\"dateChecked\", StringType(), True),\n",
    "    StructField(\"date\", StringType(), True),\n",
    "    StructField(\"size\", IntegerType(), True)\n",
    "])"
   ]
  },
  {
   "cell_type": "code",
   "execution_count": 42,
   "id": "bf795296-4686-473c-9600-4acd8bead7b3",
   "metadata": {},
   "outputs": [
    {
     "data": {
      "application/vnd.jupyter.widget-view+json": {
       "model_id": "",
       "version_major": 2,
       "version_minor": 0
      },
      "text/plain": [
       "FloatProgress(value=0.0, bar_style='info', description='Progress:', layout=Layout(height='25px', width='50%'),…"
      ]
     },
     "metadata": {},
     "output_type": "display_data"
    }
   ],
   "source": [
    "df = get_df_from_s3(csv_file_name, schema)"
   ]
  },
  {
   "cell_type": "code",
   "execution_count": 43,
   "id": "88920968-9664-4bb7-b540-4ef025d93cfd",
   "metadata": {},
   "outputs": [
    {
     "data": {
      "application/vnd.jupyter.widget-view+json": {
       "model_id": "",
       "version_major": 2,
       "version_minor": 0
      },
      "text/plain": [
       "FloatProgress(value=0.0, bar_style='info', description='Progress:', layout=Layout(height='25px', width='50%'),…"
      ]
     },
     "metadata": {},
     "output_type": "display_data"
    }
   ],
   "source": [
    "# Validate the data read\n",
    "assert df.count() == 67106, f\"No. of rows in {csv_file_name} is not matching!\"\n",
    "assert len(df.columns) == 7, f\"No. of columns in {csv_file_name} is not matching!\""
   ]
  },
  {
   "cell_type": "code",
   "execution_count": 44,
   "id": "9f0e898a-4849-4588-89d7-3f19a4f1ece1",
   "metadata": {},
   "outputs": [
    {
     "data": {
      "application/vnd.jupyter.widget-view+json": {
       "model_id": "",
       "version_major": 2,
       "version_minor": 0
      },
      "text/plain": [
       "FloatProgress(value=0.0, bar_style='info', description='Progress:', layout=Layout(height='25px', width='50%'),…"
      ]
     },
     "metadata": {},
     "output_type": "display_data"
    },
    {
     "name": "stdout",
     "output_type": "stream",
     "text": [
      "root\n",
      " |-- state: string (nullable = true)\n",
      " |-- url: string (nullable = true)\n",
      " |-- secondary: string (nullable = true)\n",
      " |-- tertiary: string (nullable = true)\n",
      " |-- dateChecked: string (nullable = true)\n",
      " |-- date: string (nullable = true)\n",
      " |-- size: integer (nullable = true)"
     ]
    }
   ],
   "source": [
    "df.printSchema()"
   ]
  },
  {
   "cell_type": "code",
   "execution_count": 45,
   "id": "11ccf249-0210-420e-bb31-9ff1cef957e5",
   "metadata": {},
   "outputs": [
    {
     "data": {
      "application/vnd.jupyter.widget-view+json": {
       "model_id": "",
       "version_major": 2,
       "version_minor": 0
      },
      "text/plain": [
       "FloatProgress(value=0.0, bar_style='info', description='Progress:', layout=Layout(height='25px', width='50%'),…"
      ]
     },
     "metadata": {},
     "output_type": "display_data"
    }
   ],
   "source": [
    "df = (df\n",
    "      .withColumn(\"date\", F.to_date(F.col(\"date\"), \"yyyyMMdd\"))\n",
    "      .withColumn(\"dateChecked\", F.to_timestamp(F.col(\"dateChecked\"), \"yyyy-MM-dd'T'HH:mm:ss'Z'\"))\n",
    "     )"
   ]
  },
  {
   "cell_type": "code",
   "execution_count": 46,
   "id": "d9d0028d-73bb-4b5d-a7db-f8f804b90f54",
   "metadata": {},
   "outputs": [
    {
     "data": {
      "application/vnd.jupyter.widget-view+json": {
       "model_id": "",
       "version_major": 2,
       "version_minor": 0
      },
      "text/plain": [
       "FloatProgress(value=0.0, bar_style='info', description='Progress:', layout=Layout(height='25px', width='50%'),…"
      ]
     },
     "metadata": {},
     "output_type": "display_data"
    },
    {
     "name": "stdout",
     "output_type": "stream",
     "text": [
      "root\n",
      " |-- state: string (nullable = true)\n",
      " |-- url: string (nullable = true)\n",
      " |-- secondary: string (nullable = true)\n",
      " |-- tertiary: string (nullable = true)\n",
      " |-- dateChecked: timestamp (nullable = true)\n",
      " |-- date: date (nullable = true)\n",
      " |-- size: integer (nullable = true)"
     ]
    }
   ],
   "source": [
    "df.printSchema()"
   ]
  },
  {
   "cell_type": "code",
   "execution_count": 47,
   "id": "80998997-fc03-4b83-9266-d46c2e1711b0",
   "metadata": {},
   "outputs": [
    {
     "data": {
      "application/vnd.jupyter.widget-view+json": {
       "model_id": "",
       "version_major": 2,
       "version_minor": 0
      },
      "text/plain": [
       "FloatProgress(value=0.0, bar_style='info', description='Progress:', layout=Layout(height='25px', width='50%'),…"
      ]
     },
     "metadata": {},
     "output_type": "display_data"
    },
    {
     "name": "stdout",
     "output_type": "stream",
     "text": [
      "[Row(state='AK', url='https://covidtracking.com/screenshots/AK/AK-20200315-021315.png', secondary='false', tertiary='false', dateChecked=None, date=datetime.date(2020, 3, 15), size=563460), Row(state='AK', url='https://covidtracking.com/screenshots/AK/AK-20200315-163225.png', secondary='false', tertiary='false', dateChecked=None, date=datetime.date(2020, 3, 15), size=432003), Row(state='AK', url='https://covidtracking.com/screenshots/AK/AK-20200316-105336.png', secondary='false', tertiary='false', dateChecked=None, date=datetime.date(2020, 3, 16), size=563460)]"
     ]
    }
   ],
   "source": [
    "df.limit(3).collect()"
   ]
  },
  {
   "cell_type": "code",
   "execution_count": 48,
   "id": "e7fd15cb-ff77-4918-bb15-dadd8a3c72b6",
   "metadata": {},
   "outputs": [
    {
     "data": {
      "application/vnd.jupyter.widget-view+json": {
       "model_id": "",
       "version_major": 2,
       "version_minor": 0
      },
      "text/plain": [
       "FloatProgress(value=0.0, bar_style='info', description='Progress:', layout=Layout(height='25px', width='50%'),…"
      ]
     },
     "metadata": {},
     "output_type": "display_data"
    }
   ],
   "source": [
    "df.write.parquet(f\"s3://{bucket_name}/{folder_name}/{parquet_file_name}\", mode=\"overwrite\")"
   ]
  },
  {
   "cell_type": "markdown",
   "id": "57820c3a-0ad9-4142-8e00-634a4d2a46e8",
   "metadata": {},
   "source": [
    "5. us_current.csv"
   ]
  },
  {
   "cell_type": "code",
   "execution_count": 49,
   "id": "7565a83e-938c-4a97-87cf-5a7d1c1d83d3",
   "metadata": {},
   "outputs": [
    {
     "data": {
      "application/vnd.jupyter.widget-view+json": {
       "model_id": "",
       "version_major": 2,
       "version_minor": 0
      },
      "text/plain": [
       "FloatProgress(value=0.0, bar_style='info', description='Progress:', layout=Layout(height='25px', width='50%'),…"
      ]
     },
     "metadata": {},
     "output_type": "display_data"
    },
    {
     "name": "stdout",
     "output_type": "stream",
     "text": [
      "Folder name: cleaned-data/us_current\n",
      "Parquet file name: us_current.parquet"
     ]
    }
   ],
   "source": [
    "csv_file_name = \"us_current.csv\"\n",
    "parquet_file_name = csv_file_name.split(\".\")[0]+\".parquet\"\n",
    "folder_name = f\"cleaned-data/{csv_file_name.split('.')[0]}\"\n",
    "print(f\"Folder name: {folder_name}\\nParquet file name: {parquet_file_name}\")"
   ]
  },
  {
   "cell_type": "code",
   "execution_count": 50,
   "id": "db07f484-d0ff-4ef0-92e4-0d92abab4644",
   "metadata": {},
   "outputs": [
    {
     "data": {
      "application/vnd.jupyter.widget-view+json": {
       "model_id": "",
       "version_major": 2,
       "version_minor": 0
      },
      "text/plain": [
       "FloatProgress(value=0.0, bar_style='info', description='Progress:', layout=Layout(height='25px', width='50%'),…"
      ]
     },
     "metadata": {},
     "output_type": "display_data"
    },
    {
     "name": "stdout",
     "output_type": "stream",
     "text": [
      "{'ResponseMetadata': {'RequestId': 'DM2FEXHZQ193K20E', 'HostId': 'vcDb+v4lDbaoDrbma+ySfCYKG4L2ITxjH8R9+V5OXHRSt6mCHHPK2pXM4JkxYbTtZPeIj2G0hgA=', 'HTTPStatusCode': 200, 'HTTPHeaders': {'x-amz-id-2': 'vcDb+v4lDbaoDrbma+ySfCYKG4L2ITxjH8R9+V5OXHRSt6mCHHPK2pXM4JkxYbTtZPeIj2G0hgA=', 'x-amz-request-id': 'DM2FEXHZQ193K20E', 'date': 'Thu, 15 Jun 2023 05:51:57 GMT', 'x-amz-server-side-encryption': 'AES256', 'etag': '\"d41d8cd98f00b204e9800998ecf8427e\"', 'server': 'AmazonS3', 'content-length': '0'}, 'RetryAttempts': 0}, 'ETag': '\"d41d8cd98f00b204e9800998ecf8427e\"', 'ServerSideEncryption': 'AES256'}"
     ]
    }
   ],
   "source": [
    "# Create folder in s3\n",
    "s3.put_object(Bucket=bucket_name, Key=(folder_name+\"/\"))"
   ]
  },
  {
   "cell_type": "code",
   "execution_count": 51,
   "id": "4dfb50ec-458b-424a-a454-7be4a9cd0e08",
   "metadata": {},
   "outputs": [
    {
     "data": {
      "application/vnd.jupyter.widget-view+json": {
       "model_id": "",
       "version_major": 2,
       "version_minor": 0
      },
      "text/plain": [
       "FloatProgress(value=0.0, bar_style='info', description='Progress:', layout=Layout(height='25px', width='50%'),…"
      ]
     },
     "metadata": {},
     "output_type": "display_data"
    },
    {
     "name": "stdout",
     "output_type": "stream",
     "text": [
      "{\"date\": \"20210307\", \"states\": \"56\", \"positive\": \"28755524\", \"negative\": \"74579770\", \"pending\": \"11808\", \"hospitalizedCurrently\": \"40212\", \"hospitalizedCumulative\": \"878613\", \"inIcuCurrently\": \"8137\", \"inIcuCumulative\": \"45475\", \"onVentilatorCurrently\": \"2801\", \"onVentilatorCumulative\": \"4281\", \"dateChecked\": \"2021-03-07T24:00:00Z\", \"death\": \"515142\", \"hospitalized\": \"878613\", \"totalTestResults\": \"363789451\", \"lastModified\": \"2021-03-07T24:00:00Z\", \"recovered\": \"\", \"total\": \"0\", \"posNeg\": \"0\", \"deathIncrease\": \"839\", \"hospitalizedIncrease\": \"726\", \"negativeIncrease\": \"130414\", \"positiveIncrease\": \"41265\", \"totalTestResultsIncrease\": \"1156241\", \"hash\": \"8b26839690cd05c0cef69cb9ed85641a76b5e78e\"}"
     ]
    }
   ],
   "source": [
    "show_dynamic_frame(csv_file_name)"
   ]
  },
  {
   "cell_type": "code",
   "execution_count": 52,
   "id": "04ff381e-8a7b-482d-bad5-9d0ffc33ffcc",
   "metadata": {},
   "outputs": [
    {
     "data": {
      "application/vnd.jupyter.widget-view+json": {
       "model_id": "",
       "version_major": 2,
       "version_minor": 0
      },
      "text/plain": [
       "FloatProgress(value=0.0, bar_style='info', description='Progress:', layout=Layout(height='25px', width='50%'),…"
      ]
     },
     "metadata": {},
     "output_type": "display_data"
    }
   ],
   "source": [
    "schema = StructType([\n",
    "    StructField(\"date\", StringType(), True),\n",
    "    StructField(\"states\", StringType(), True),\n",
    "    StructField(\"positive\", LongType(), True),\n",
    "    StructField(\"negative\", LongType(), True),\n",
    "    StructField(\"pending\", LongType(), True),\n",
    "    StructField(\"hospitalizedCurrently\", LongType(), True),\n",
    "    StructField(\"hospitalizedCumulative\", LongType(), True),\n",
    "    StructField(\"inIcuCurrently\", IntegerType(), True),\n",
    "    StructField(\"inIcuCumulative\", LongType(), True),\n",
    "    StructField(\"onVentilatorCurrently\", IntegerType(), True),\n",
    "    StructField(\"onVentilatorCumulative\", LongType(), True),\n",
    "    StructField(\"dateChecked\", StringType(), True),\n",
    "    StructField(\"death\", IntegerType(), True),\n",
    "    StructField(\"hospitalized\", LongType(), True),\n",
    "    StructField(\"totalTestResults\", LongType(), True),\n",
    "    StructField(\"lastModified\", StringType(), True),\n",
    "    StructField(\"recovered\", LongType(), True),\n",
    "    StructField(\"total\", LongType(), True),\n",
    "    StructField(\"posNeg\", IntegerType(), True),\n",
    "    StructField(\"deathIncrease\", IntegerType(), True),\n",
    "    StructField(\"hospitalizedIncrease\", IntegerType(), True),\n",
    "    StructField(\"negativeIncrease\", LongType(), True),\n",
    "    StructField(\"positiveIncrease\", IntegerType(), True),\n",
    "    StructField(\"totalTestResultsIncrease\", LongType(), True),\n",
    "    StructField(\"hash\", StringType(), True)\n",
    "])"
   ]
  },
  {
   "cell_type": "code",
   "execution_count": 53,
   "id": "fd5635a5-50ae-41a2-a932-31582a7546cc",
   "metadata": {},
   "outputs": [
    {
     "data": {
      "application/vnd.jupyter.widget-view+json": {
       "model_id": "",
       "version_major": 2,
       "version_minor": 0
      },
      "text/plain": [
       "FloatProgress(value=0.0, bar_style='info', description='Progress:', layout=Layout(height='25px', width='50%'),…"
      ]
     },
     "metadata": {},
     "output_type": "display_data"
    }
   ],
   "source": [
    "df = get_df_from_s3(csv_file_name, schema)"
   ]
  },
  {
   "cell_type": "code",
   "execution_count": 54,
   "id": "010b15bd-27d5-4b06-84b6-a8f1f9922aa7",
   "metadata": {},
   "outputs": [
    {
     "data": {
      "application/vnd.jupyter.widget-view+json": {
       "model_id": "",
       "version_major": 2,
       "version_minor": 0
      },
      "text/plain": [
       "FloatProgress(value=0.0, bar_style='info', description='Progress:', layout=Layout(height='25px', width='50%'),…"
      ]
     },
     "metadata": {},
     "output_type": "display_data"
    }
   ],
   "source": [
    "# Validate the data read\n",
    "assert df.count() == 1, f\"No. of rows in {csv_file_name} is not matching!\"\n",
    "assert len(df.columns) == 25, f\"No. of columns in {csv_file_name} is not matching!\""
   ]
  },
  {
   "cell_type": "code",
   "execution_count": 55,
   "id": "a07728a3-0b6b-4358-8aa5-91ca6f1ada51",
   "metadata": {},
   "outputs": [
    {
     "data": {
      "application/vnd.jupyter.widget-view+json": {
       "model_id": "",
       "version_major": 2,
       "version_minor": 0
      },
      "text/plain": [
       "FloatProgress(value=0.0, bar_style='info', description='Progress:', layout=Layout(height='25px', width='50%'),…"
      ]
     },
     "metadata": {},
     "output_type": "display_data"
    }
   ],
   "source": [
    "df = (df\n",
    "      .withColumn(\"date\", F.to_date(F.col(\"date\"), \"yyyyMMdd\"))\n",
    "      .withColumn(\"dateChecked\", F.to_timestamp(F.col(\"dateChecked\"), \"yyyy-MM-dd'T'HH:mm:ss'Z'\"))\n",
    "      .withColumn(\"lastModified\", F.to_timestamp(F.col(\"lastModified\"), \"yyyy-MM-dd'T'HH:mm:ss'Z'\"))\n",
    "     )"
   ]
  },
  {
   "cell_type": "code",
   "execution_count": 56,
   "id": "74337077-6a9a-4876-9ca3-7263d04cc7d0",
   "metadata": {},
   "outputs": [
    {
     "data": {
      "application/vnd.jupyter.widget-view+json": {
       "model_id": "",
       "version_major": 2,
       "version_minor": 0
      },
      "text/plain": [
       "FloatProgress(value=0.0, bar_style='info', description='Progress:', layout=Layout(height='25px', width='50%'),…"
      ]
     },
     "metadata": {},
     "output_type": "display_data"
    },
    {
     "name": "stdout",
     "output_type": "stream",
     "text": [
      "root\n",
      " |-- date: date (nullable = true)\n",
      " |-- states: string (nullable = true)\n",
      " |-- positive: long (nullable = true)\n",
      " |-- negative: long (nullable = true)\n",
      " |-- pending: long (nullable = true)\n",
      " |-- hospitalizedCurrently: long (nullable = true)\n",
      " |-- hospitalizedCumulative: long (nullable = true)\n",
      " |-- inIcuCurrently: integer (nullable = true)\n",
      " |-- inIcuCumulative: long (nullable = true)\n",
      " |-- onVentilatorCurrently: integer (nullable = true)\n",
      " |-- onVentilatorCumulative: long (nullable = true)\n",
      " |-- dateChecked: timestamp (nullable = true)\n",
      " |-- death: integer (nullable = true)\n",
      " |-- hospitalized: long (nullable = true)\n",
      " |-- totalTestResults: long (nullable = true)\n",
      " |-- lastModified: timestamp (nullable = true)\n",
      " |-- recovered: long (nullable = true)\n",
      " |-- total: long (nullable = true)\n",
      " |-- posNeg: integer (nullable = true)\n",
      " |-- deathIncrease: integer (nullable = true)\n",
      " |-- hospitalizedIncrease: integer (nullable = true)\n",
      " |-- negativeIncrease: long (nullable = true)\n",
      " |-- positiveIncrease: integer (nullable = true)\n",
      " |-- totalTestResultsIncrease: long (nullable = true)\n",
      " |-- hash: string (nullable = true)"
     ]
    }
   ],
   "source": [
    "df.printSchema()"
   ]
  },
  {
   "cell_type": "code",
   "execution_count": 57,
   "id": "29888212-005f-4602-b47e-b1d6e670a0ca",
   "metadata": {},
   "outputs": [
    {
     "data": {
      "application/vnd.jupyter.widget-view+json": {
       "model_id": "",
       "version_major": 2,
       "version_minor": 0
      },
      "text/plain": [
       "FloatProgress(value=0.0, bar_style='info', description='Progress:', layout=Layout(height='25px', width='50%'),…"
      ]
     },
     "metadata": {},
     "output_type": "display_data"
    },
    {
     "name": "stdout",
     "output_type": "stream",
     "text": [
      "[Row(date=datetime.date(2021, 3, 7), states='56', positive=28755524, negative=74579770, pending=11808, hospitalizedCurrently=40212, hospitalizedCumulative=878613, inIcuCurrently=8137, inIcuCumulative=45475, onVentilatorCurrently=2801, onVentilatorCumulative=4281, dateChecked=None, death=515142, hospitalized=878613, totalTestResults=363789451, lastModified=None, recovered=None, total=0, posNeg=0, deathIncrease=839, hospitalizedIncrease=726, negativeIncrease=130414, positiveIncrease=41265, totalTestResultsIncrease=1156241, hash='8b26839690cd05c0cef69cb9ed85641a76b5e78e')]"
     ]
    }
   ],
   "source": [
    "df.limit(3).collect()"
   ]
  },
  {
   "cell_type": "code",
   "execution_count": 58,
   "id": "600c7b30-e733-4279-a8fc-c0ec457ec39e",
   "metadata": {},
   "outputs": [
    {
     "data": {
      "application/vnd.jupyter.widget-view+json": {
       "model_id": "",
       "version_major": 2,
       "version_minor": 0
      },
      "text/plain": [
       "FloatProgress(value=0.0, bar_style='info', description='Progress:', layout=Layout(height='25px', width='50%'),…"
      ]
     },
     "metadata": {},
     "output_type": "display_data"
    }
   ],
   "source": [
    "df.write.parquet(f\"s3://{bucket_name}/{folder_name}/{parquet_file_name}\", mode=\"overwrite\")"
   ]
  },
  {
   "cell_type": "markdown",
   "id": "3549f913-5559-4956-bc2d-df30654b9c51",
   "metadata": {},
   "source": [
    "6. us_daily.csv"
   ]
  },
  {
   "cell_type": "code",
   "execution_count": 59,
   "id": "e47f956f-9e7b-4446-95f4-04005aa164d7",
   "metadata": {},
   "outputs": [
    {
     "data": {
      "application/vnd.jupyter.widget-view+json": {
       "model_id": "",
       "version_major": 2,
       "version_minor": 0
      },
      "text/plain": [
       "FloatProgress(value=0.0, bar_style='info', description='Progress:', layout=Layout(height='25px', width='50%'),…"
      ]
     },
     "metadata": {},
     "output_type": "display_data"
    },
    {
     "name": "stdout",
     "output_type": "stream",
     "text": [
      "Folder name: cleaned-data/us_daily\n",
      "Parquet file name: us_daily.parquet"
     ]
    }
   ],
   "source": [
    "csv_file_name = \"us_daily.csv\"\n",
    "parquet_file_name = csv_file_name.split(\".\")[0]+\".parquet\"\n",
    "folder_name = f\"cleaned-data/{csv_file_name.split('.')[0]}\"\n",
    "print(f\"Folder name: {folder_name}\\nParquet file name: {parquet_file_name}\")"
   ]
  },
  {
   "cell_type": "code",
   "execution_count": 60,
   "id": "afc9ee85-5dad-4619-bb9e-9507c21c7f66",
   "metadata": {},
   "outputs": [
    {
     "data": {
      "application/vnd.jupyter.widget-view+json": {
       "model_id": "",
       "version_major": 2,
       "version_minor": 0
      },
      "text/plain": [
       "FloatProgress(value=0.0, bar_style='info', description='Progress:', layout=Layout(height='25px', width='50%'),…"
      ]
     },
     "metadata": {},
     "output_type": "display_data"
    },
    {
     "name": "stdout",
     "output_type": "stream",
     "text": [
      "{'ResponseMetadata': {'RequestId': 'AX8WDQW40TY66YQS', 'HostId': 'ozYNsNSjehJJZBs/Yin9MQvx4u6/cDLQ+L5fqp8CCMhFU/RYA064EmS2E9iF13dmdmNRXkVoGJ8=', 'HTTPStatusCode': 200, 'HTTPHeaders': {'x-amz-id-2': 'ozYNsNSjehJJZBs/Yin9MQvx4u6/cDLQ+L5fqp8CCMhFU/RYA064EmS2E9iF13dmdmNRXkVoGJ8=', 'x-amz-request-id': 'AX8WDQW40TY66YQS', 'date': 'Thu, 15 Jun 2023 05:53:02 GMT', 'x-amz-server-side-encryption': 'AES256', 'etag': '\"d41d8cd98f00b204e9800998ecf8427e\"', 'server': 'AmazonS3', 'content-length': '0'}, 'RetryAttempts': 0}, 'ETag': '\"d41d8cd98f00b204e9800998ecf8427e\"', 'ServerSideEncryption': 'AES256'}"
     ]
    }
   ],
   "source": [
    "# Create folder in s3\n",
    "s3.put_object(Bucket=bucket_name, Key=(folder_name+\"/\"))"
   ]
  },
  {
   "cell_type": "code",
   "execution_count": 61,
   "id": "c7e2239d-ff0c-42e9-b06d-0627f19479bd",
   "metadata": {},
   "outputs": [
    {
     "data": {
      "application/vnd.jupyter.widget-view+json": {
       "model_id": "",
       "version_major": 2,
       "version_minor": 0
      },
      "text/plain": [
       "FloatProgress(value=0.0, bar_style='info', description='Progress:', layout=Layout(height='25px', width='50%'),…"
      ]
     },
     "metadata": {},
     "output_type": "display_data"
    },
    {
     "name": "stdout",
     "output_type": "stream",
     "text": [
      "{\"date\": \"20210307\", \"states\": \"56\", \"positive\": \"28755524\", \"negative\": \"74579770\", \"pending\": \"11808\", \"hospitalizedCurrently\": \"40212\", \"hospitalizedCumulative\": \"878613\", \"inIcuCurrently\": \"8137\", \"inIcuCumulative\": \"45475\", \"onVentilatorCurrently\": \"2801\", \"onVentilatorCumulative\": \"4281\", \"dateChecked\": \"2021-03-07T24:00:00Z\", \"death\": \"515142\", \"hospitalized\": \"878613\", \"totalTestResults\": \"363789451\", \"lastModified\": \"2021-03-07T24:00:00Z\", \"recovered\": \"\", \"total\": \"0\", \"posNeg\": \"0\", \"deathIncrease\": \"839\", \"hospitalizedIncrease\": \"726\", \"negativeIncrease\": \"130414\", \"positiveIncrease\": \"41265\", \"totalTestResultsIncrease\": \"1156241\", \"hash\": \"8b26839690cd05c0cef69cb9ed85641a76b5e78e\"}"
     ]
    }
   ],
   "source": [
    "show_dynamic_frame(csv_file_name)"
   ]
  },
  {
   "cell_type": "code",
   "execution_count": 62,
   "id": "01254b49-37aa-4bf9-9657-11efd64fc0c9",
   "metadata": {},
   "outputs": [
    {
     "data": {
      "application/vnd.jupyter.widget-view+json": {
       "model_id": "",
       "version_major": 2,
       "version_minor": 0
      },
      "text/plain": [
       "FloatProgress(value=0.0, bar_style='info', description='Progress:', layout=Layout(height='25px', width='50%'),…"
      ]
     },
     "metadata": {},
     "output_type": "display_data"
    }
   ],
   "source": [
    "# us_daily has the same schema as that of us_current\n",
    "df = get_df_from_s3(csv_file_name, schema)"
   ]
  },
  {
   "cell_type": "code",
   "execution_count": 63,
   "id": "b91cbc08-f1d5-4088-a19f-24e83b212149",
   "metadata": {},
   "outputs": [
    {
     "data": {
      "application/vnd.jupyter.widget-view+json": {
       "model_id": "",
       "version_major": 2,
       "version_minor": 0
      },
      "text/plain": [
       "FloatProgress(value=0.0, bar_style='info', description='Progress:', layout=Layout(height='25px', width='50%'),…"
      ]
     },
     "metadata": {},
     "output_type": "display_data"
    }
   ],
   "source": [
    "# Validate the data read\n",
    "assert df.count() == 420, f\"No. of rows in {csv_file_name} is not matching!\"\n",
    "assert len(df.columns) == 25, f\"No. of columns in {csv_file_name} is not matching!\""
   ]
  },
  {
   "cell_type": "code",
   "execution_count": 64,
   "id": "098ba3a4-13b8-461a-bc9c-607a1b76a93a",
   "metadata": {},
   "outputs": [
    {
     "data": {
      "application/vnd.jupyter.widget-view+json": {
       "model_id": "",
       "version_major": 2,
       "version_minor": 0
      },
      "text/plain": [
       "FloatProgress(value=0.0, bar_style='info', description='Progress:', layout=Layout(height='25px', width='50%'),…"
      ]
     },
     "metadata": {},
     "output_type": "display_data"
    }
   ],
   "source": [
    "df = (df\n",
    "      .withColumn(\"date\", F.to_date(F.col(\"date\"), \"yyyyMMdd\"))\n",
    "      .withColumn(\"dateChecked\", F.to_timestamp(F.col(\"dateChecked\"), \"yyyy-MM-dd'T'HH:mm:ss'Z'\"))\n",
    "      .withColumn(\"lastModified\", F.to_timestamp(F.col(\"lastModified\"), \"yyyy-MM-dd'T'HH:mm:ss'Z'\"))\n",
    "     )"
   ]
  },
  {
   "cell_type": "code",
   "execution_count": 65,
   "id": "a350e308-7853-4290-89e2-82d4a87d1bf3",
   "metadata": {},
   "outputs": [
    {
     "data": {
      "application/vnd.jupyter.widget-view+json": {
       "model_id": "",
       "version_major": 2,
       "version_minor": 0
      },
      "text/plain": [
       "FloatProgress(value=0.0, bar_style='info', description='Progress:', layout=Layout(height='25px', width='50%'),…"
      ]
     },
     "metadata": {},
     "output_type": "display_data"
    },
    {
     "name": "stdout",
     "output_type": "stream",
     "text": [
      "root\n",
      " |-- date: date (nullable = true)\n",
      " |-- states: string (nullable = true)\n",
      " |-- positive: long (nullable = true)\n",
      " |-- negative: long (nullable = true)\n",
      " |-- pending: long (nullable = true)\n",
      " |-- hospitalizedCurrently: long (nullable = true)\n",
      " |-- hospitalizedCumulative: long (nullable = true)\n",
      " |-- inIcuCurrently: integer (nullable = true)\n",
      " |-- inIcuCumulative: long (nullable = true)\n",
      " |-- onVentilatorCurrently: integer (nullable = true)\n",
      " |-- onVentilatorCumulative: long (nullable = true)\n",
      " |-- dateChecked: timestamp (nullable = true)\n",
      " |-- death: integer (nullable = true)\n",
      " |-- hospitalized: long (nullable = true)\n",
      " |-- totalTestResults: long (nullable = true)\n",
      " |-- lastModified: timestamp (nullable = true)\n",
      " |-- recovered: long (nullable = true)\n",
      " |-- total: long (nullable = true)\n",
      " |-- posNeg: integer (nullable = true)\n",
      " |-- deathIncrease: integer (nullable = true)\n",
      " |-- hospitalizedIncrease: integer (nullable = true)\n",
      " |-- negativeIncrease: long (nullable = true)\n",
      " |-- positiveIncrease: integer (nullable = true)\n",
      " |-- totalTestResultsIncrease: long (nullable = true)\n",
      " |-- hash: string (nullable = true)"
     ]
    }
   ],
   "source": [
    "df.printSchema()"
   ]
  },
  {
   "cell_type": "code",
   "execution_count": 66,
   "id": "ef23867c-b303-4e26-bff9-dac7885d3bd0",
   "metadata": {},
   "outputs": [
    {
     "data": {
      "application/vnd.jupyter.widget-view+json": {
       "model_id": "",
       "version_major": 2,
       "version_minor": 0
      },
      "text/plain": [
       "FloatProgress(value=0.0, bar_style='info', description='Progress:', layout=Layout(height='25px', width='50%'),…"
      ]
     },
     "metadata": {},
     "output_type": "display_data"
    },
    {
     "name": "stdout",
     "output_type": "stream",
     "text": [
      "[Row(date=datetime.date(2021, 3, 7), states='56', positive=28755524, negative=74579770, pending=11808, hospitalizedCurrently=40212, hospitalizedCumulative=878613, inIcuCurrently=8137, inIcuCumulative=45475, onVentilatorCurrently=2801, onVentilatorCumulative=4281, dateChecked=None, death=515142, hospitalized=878613, totalTestResults=363789451, lastModified=None, recovered=None, total=0, posNeg=0, deathIncrease=839, hospitalizedIncrease=726, negativeIncrease=130414, positiveIncrease=41265, totalTestResultsIncrease=1156241, hash='8b26839690cd05c0cef69cb9ed85641a76b5e78e'), Row(date=datetime.date(2021, 3, 6), states='56', positive=28714259, negative=74449356, pending=11783, hospitalizedCurrently=41401, hospitalizedCumulative=877887, inIcuCurrently=8409, inIcuCumulative=45453, onVentilatorCurrently=2811, onVentilatorCumulative=4280, dateChecked=None, death=514303, hospitalized=877887, totalTestResults=362633210, lastModified=None, recovered=None, total=0, posNeg=0, deathIncrease=1674, hospitalizedIncrease=503, negativeIncrease=142201, positiveIncrease=59620, totalTestResultsIncrease=1409138, hash='d0c0482ea549c9d5c04a7c86acb6fc6a8095a592'), Row(date=datetime.date(2021, 3, 5), states='56', positive=28654639, negative=74307155, pending=12213, hospitalizedCurrently=42541, hospitalizedCumulative=877384, inIcuCurrently=8634, inIcuCumulative=45373, onVentilatorCurrently=2889, onVentilatorCumulative=4275, dateChecked=None, death=512629, hospitalized=877384, totalTestResults=361224072, lastModified=None, recovered=None, total=0, posNeg=0, deathIncrease=2221, hospitalizedIncrease=2781, negativeIncrease=271917, positiveIncrease=68787, totalTestResultsIncrease=1744417, hash='a35ea4289cec4bb55c9f29ae04ec0fd5ac4e0222')]"
     ]
    }
   ],
   "source": [
    "df.limit(3).collect()"
   ]
  },
  {
   "cell_type": "code",
   "execution_count": 67,
   "id": "7b885d91-6a68-477f-b402-cb7695ec3ccb",
   "metadata": {},
   "outputs": [
    {
     "data": {
      "application/vnd.jupyter.widget-view+json": {
       "model_id": "",
       "version_major": 2,
       "version_minor": 0
      },
      "text/plain": [
       "FloatProgress(value=0.0, bar_style='info', description='Progress:', layout=Layout(height='25px', width='50%'),…"
      ]
     },
     "metadata": {},
     "output_type": "display_data"
    }
   ],
   "source": [
    "df.write.parquet(f\"s3://{bucket_name}/{folder_name}/{parquet_file_name}\", mode=\"overwrite\")"
   ]
  }
 ],
 "metadata": {
  "kernelspec": {
   "display_name": "PySpark",
   "language": "python",
   "name": "pysparkkernel"
  },
  "language_info": {
   "codemirror_mode": {
    "name": "python",
    "version": 3
   },
   "file_extension": ".py",
   "mimetype": "text/x-python",
   "name": "pyspark",
   "pygments_lexer": "python3"
  }
 },
 "nbformat": 4,
 "nbformat_minor": 5
}
